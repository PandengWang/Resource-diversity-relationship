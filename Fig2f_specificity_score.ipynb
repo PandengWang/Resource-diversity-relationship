{
 "cells": [
  {
   "cell_type": "markdown",
   "metadata": {},
   "source": [
    "## Import dataset of ASV in each media"
   ]
  },
  {
   "cell_type": "markdown",
   "metadata": {},
   "source": [
    "*NOTE: please unzip the file data_genomic/data_day_7.zip in the data_genomic directory before proceeding to import the following csv file and running this code.*"
   ]
  },
  {
   "cell_type": "code",
   "execution_count": 13,
   "metadata": {},
   "outputs": [],
   "source": [
    "import numpy as np\n",
    "import pandas as pd\n",
    "import csv\n",
    "\n",
    "dat = pd.read_csv('data_genomic/dat_day7_ok.csv')"
   ]
  },
  {
   "cell_type": "markdown",
   "metadata": {},
   "source": [
    "### Pulling out the list of ASVs in each media"
   ]
  },
  {
   "cell_type": "code",
   "execution_count": 14,
   "metadata": {},
   "outputs": [],
   "source": [
    "ASVlist = np.sort( list( set(dat[ dat['Abundance']>0 ]['OTU']) ) );"
   ]
  },
  {
   "cell_type": "markdown",
   "metadata": {},
   "source": [
    "### Mapping media to ASVs"
   ]
  },
  {
   "cell_type": "markdown",
   "metadata": {},
   "source": [
    "The mapping is a matrix that contains 1 if the ASV is present in the medium, and 0 otherwise."
   ]
  },
  {
   "cell_type": "code",
   "execution_count": 15,
   "metadata": {},
   "outputs": [],
   "source": [
    "med2asv = np.zeros((75, 619));\n",
    "for i in np.arange(75):\n",
    "    asvs = list( set( dat[(dat['medium']==i+1) & (dat['Abundance']>0)]['OTU'] ) );\n",
    "    for j in np.arange( len(asvs) ):\n",
    "        target = np.where(ASVlist == asvs[j] )[0][0];\n",
    "        med2asv[ i, target ] = 1;"
   ]
  },
  {
   "cell_type": "markdown",
   "metadata": {},
   "source": [
    "Marking out the single resources"
   ]
  },
  {
   "cell_type": "code",
   "execution_count": 16,
   "metadata": {},
   "outputs": [],
   "source": [
    "name_srs = ['glucose_c', 'fructose_c', 'xylose_c', 'mannose_c',\n",
    "       'cellobiose_c', 'maltose_c', 'sucrose_c', 'citric_acid_c', 'fumaric_acid_c',\n",
    "       'galacturonic_acid_c', 'mannitol_c', 'sorbitol_c', 'glycerol_c', 'proline_c',\n",
    "       'cellulose_c', 'starch_c'] "
   ]
  },
  {
   "cell_type": "markdown",
   "metadata": {},
   "source": [
    "### Mapping ASVs to media (the inverse mapping)"
   ]
  },
  {
   "cell_type": "code",
   "execution_count": 17,
   "metadata": {},
   "outputs": [],
   "source": [
    "WRmed = np.zeros((75,16));\n",
    "for i in np.arange(75):\n",
    "    for k in np.arange(16):\n",
    "        well = np.where(dat['medium']==i+1)[0][0]\n",
    "        if(dat[name_srs[k]][well] > 0):\n",
    "            WRmed[i,k] += 1;"
   ]
  },
  {
   "cell_type": "markdown",
   "metadata": {},
   "source": [
    "## Calculating specialists and generalists, based on their resource occupancy in single resource media."
   ]
  },
  {
   "cell_type": "markdown",
   "metadata": {},
   "source": [
    "First calculating how many single-resource media an ASV is found in, out of 16 single-resource media."
   ]
  },
  {
   "cell_type": "code",
   "execution_count": 18,
   "metadata": {},
   "outputs": [],
   "source": [
    "soccur = np.sum( med2asv[42:58,:], axis=0 )"
   ]
  },
  {
   "cell_type": "markdown",
   "metadata": {},
   "source": [
    "Now calculating generalists, as those found in >= 13 resource media, and specialists as those found in <= 3."
   ]
  },
  {
   "cell_type": "code",
   "execution_count": 19,
   "metadata": {},
   "outputs": [],
   "source": [
    "gen = np.where(soccur>12)[0];\n",
    "sp = np.where( (soccur<4)*(soccur>0))[0];"
   ]
  },
  {
   "cell_type": "markdown",
   "metadata": {},
   "source": [
    "Every other ASV is an intermediate ASV."
   ]
  },
  {
   "cell_type": "code",
   "execution_count": 20,
   "metadata": {},
   "outputs": [],
   "source": [
    "oth = np.where((soccur<13)*(soccur>3))[0];"
   ]
  },
  {
   "cell_type": "markdown",
   "metadata": {},
   "source": [
    "## Calculate specificity score"
   ]
  },
  {
   "cell_type": "markdown",
   "metadata": {},
   "source": [
    "The algorithm to calculate the resource-specificity score proceeds as follows:\n",
    "\n",
    "\n",
    "1. For each single resource target, find ASVs that are found in the single resource media.\n",
    "\n",
    "2. For each of those ASVs, get probability that ASV is found when target resource is present:\n",
    "   > X = multi-resource media with the target resource where ASV is found\n",
    "   \n",
    "   > p1 = X / (multi-resource media with the target resource)\n",
    "   \n",
    "3. For each of those ASVs, get probability that ASV is found when target resource is absent:\n",
    "    Y = multi-resource media without the target resource where ASV is found\n",
    "    p2 = Y / (multi-resource media without the target resource)\n",
    "    \n",
    "4. For each of those ASVs, calculate specificity score = (p1-p2)/(p1+p2)\n",
    "\n",
    "5. Pick specialist ASVs and find average specificity score over specialist ASVs for the target media\n",
    "\n",
    "6. Pick generalist ASVs and find average specificity score over generalist ASVs for the target media\n",
    "\n",
    "\n",
    "*NOTE: due to historical contingencies, we sometimes refer to generalists as cosmpolitan taxa, and specialists as endemic taxa, respectively.*"
   ]
  },
  {
   "cell_type": "code",
   "execution_count": 21,
   "metadata": {},
   "outputs": [],
   "source": [
    "# specificity score of specialists, for all 16 resources\n",
    "pssp = {};\n",
    "\n",
    "# specificity score of generalists, for all 16 resources\n",
    "psgen = {}; \n",
    "\n",
    "# for CSV export\n",
    "a = []; b = []; c=[];\n",
    "\n",
    "# for each single resource target\n",
    "for i in np.arange(16):\n",
    "   \n",
    "    # initialize specificity scores for the resource\n",
    "    pssp[i] = []; psgen[i] = []; \n",
    "   \n",
    "    # ASVs that are found in the single resource\n",
    "    targets = np.where( (med2asv[42+i]==1) )[0]\n",
    "   \n",
    "    # multi-resource media that contain the single resource\n",
    "    nest = np.where( (WRmed[:,i]==1)*(np.sum(WRmed, axis=1)>1)  )[0];\n",
    "   \n",
    "    # multi-resource media without the single resource\n",
    "    nonest = np.where((WRmed[:,i]==0)*(np.sum(WRmed, axis=1)>1) )[0];\n",
    "   \n",
    "    # for each ASV found in the single resource\n",
    "    for target in targets:\n",
    "       \n",
    "        # probability that ASV is found when target resource is present\n",
    "        p1 = np.sum( med2asv[nest, target] )/len(nest);\n",
    "       \n",
    "        # probability that ASV is found when target resource is absent\n",
    "        p2 = np.sum( med2asv[nonest, target] )/len(nonest);\n",
    "       \n",
    "        # only count when ASV is found at least once in multi-resource media\n",
    "        if(p1+p2 > 0):\n",
    "           \n",
    "            # if the ASV is a specialist\n",
    "            if target in sp:\n",
    "               \n",
    "                # add to specialist specificity score list for the resource\n",
    "                pssp[i] += [ (p1-p2)/(p1+p2) ];\n",
    "               \n",
    "                # for CSV export format\n",
    "                c+=['Endemics']\n",
    "                a += [name_srs[i]];\n",
    "                b += [ (p1-p2)/(p1+p2) ];\n",
    "           \n",
    "            # if the ASV is a generalist\n",
    "            elif target in gen:\n",
    "               \n",
    "                # add to generalist specificity score list for the resource\n",
    "                psgen[i] += [ (p1-p2)/(p1+p2) ];\n",
    "               \n",
    "                # for CSV export format\n",
    "                c+=['Cosmopolitans']\n",
    "                a += [name_srs[i]];\n",
    "                b += [ (p1-p2)/(p1+p2) ]"
   ]
  },
  {
   "cell_type": "markdown",
   "metadata": {},
   "source": [
    "Saving and exporting results."
   ]
  },
  {
   "cell_type": "code",
   "execution_count": null,
   "metadata": {},
   "outputs": [],
   "source": [
    "df = pd.DataFrame();\n",
    "df['Resource']=a;\n",
    "df['Preference']=b;\n",
    "df['Type']=c;\n",
    "\n",
    "df.to_csv('pref.csv')"
   ]
  }
 ],
 "metadata": {
  "kernelspec": {
   "display_name": "Python 3",
   "language": "python",
   "name": "python3"
  },
  "language_info": {
   "codemirror_mode": {
    "name": "ipython",
    "version": 3
   },
   "file_extension": ".py",
   "mimetype": "text/x-python",
   "name": "python",
   "nbconvert_exporter": "python",
   "pygments_lexer": "ipython3",
   "version": "3.8.3"
  }
 },
 "nbformat": 4,
 "nbformat_minor": 2
}
