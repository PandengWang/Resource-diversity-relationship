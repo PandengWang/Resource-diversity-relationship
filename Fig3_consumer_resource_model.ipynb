{
 "cells": [
  {
   "cell_type": "code",
   "execution_count": 9,
   "metadata": {},
   "outputs": [],
   "source": [
    "import numpy as np\n",
    "from scipy.integrate import solve_ivp\n",
    "import matplotlib.pyplot as plt\n",
    "from tqdm import tqdm\n",
    "import pandas as pd\n",
    "import itertools"
   ]
  },
  {
   "cell_type": "markdown",
   "metadata": {},
   "source": [
    "# Setting up a mapping between each growth medium and its supplied resource composition"
   ]
  },
  {
   "cell_type": "markdown",
   "metadata": {},
   "source": [
    "The matrix CSM is 75 x 16, for 75 media and 16 resources. Each row describes which resources are supplied in that medium, and at what relative concentration. Concentrations in each row always add up to 1. Here, we are setting everything in the matrix semi-manually, semi-algorithmically, for convenience."
   ]
  },
  {
   "cell_type": "markdown",
   "metadata": {},
   "source": [
    "#### Single resource media"
   ]
  },
  {
   "cell_type": "code",
   "execution_count": 17,
   "metadata": {},
   "outputs": [],
   "source": [
    "CSM = np.zeros((75,16));\n",
    "for i in np.arange(16):\n",
    "    CSM[i,i]=1;\n",
    "    CSM[58+i, i]= -1/15;"
   ]
  },
  {
   "cell_type": "markdown",
   "metadata": {},
   "source": [
    "#### Two resource media"
   ]
  },
  {
   "cell_type": "code",
   "execution_count": 18,
   "metadata": {},
   "outputs": [],
   "source": [
    "CSM[16,0]=1/2; CSM[16,-1]=1/2; CSM[17,9]=1/2; CSM[17,4]=1/2; CSM[18,1]=1/2; CSM[18,-6]=1/2; CSM[19,-2]=1/2; CSM[19,-3]=1/2; \n",
    "CSM[20,2]=1/2; CSM[20,8]=1/2; CSM[21,5]=1/2; CSM[21,6]=1/2; CSM[22,7]=1/2; CSM[22,-4]=1/2; CSM[23,-5]=1/2; CSM[23,3]=1/2; \n",
    "CSM[24,7]=1/2; CSM[24,3]=1/2; CSM[25,6]=1/2; CSM[25,-2]=1/2; CSM[26,0]=1/2; CSM[26,-8]=1/2; CSM[27,-3]=1/2; CSM[27,2]=1/2; \n",
    "CSM[28,-4]=1/2; CSM[28,-5]=1/2; CSM[29,-6]=1/2; CSM[29,4]=1/2; CSM[30,5]=1/2; CSM[30,9]=1/2; CSM[31,1]=1/2; CSM[31,-1]=1/2; \n",
    "CSM[32,-1]=1/2; CSM[32,4]=1/2; CSM[33,5]=1/2; CSM[33,3]=1/2; CSM[34,2]=1/2; CSM[34,-5]=1/2; CSM[35,-3]=1/2; CSM[35,0]=1/2; \n",
    "CSM[36,1]=1/2; CSM[36,9]=1/2; CSM[37,8]=1/2; CSM[37,10]=1/2; CSM[38,6]=1/2; CSM[38,7]=1/2; CSM[39,-2]=1/2; CSM[39,-4]=1/2; "
   ]
  },
  {
   "cell_type": "markdown",
   "metadata": {},
   "source": [
    "#### Four-resource media"
   ]
  },
  {
   "cell_type": "code",
   "execution_count": 19,
   "metadata": {},
   "outputs": [],
   "source": [
    "for i in np.arange(4): # 4 resource combinations\n",
    "    CSM[40+i,:] = 1/4*( CSM[16+i*2]+CSM[16+i*2+1] > 0 );\n",
    "    CSM[44+i,:] = 1/4*( CSM[24+i*2]+CSM[24+i*2+1] > 0 );\n",
    "    CSM[48+i,:] = 1/4*( CSM[32+i*2]+CSM[32+i*2+1] > 0 );"
   ]
  },
  {
   "cell_type": "markdown",
   "metadata": {},
   "source": [
    "#### Eight-resource media"
   ]
  },
  {
   "cell_type": "code",
   "execution_count": 22,
   "metadata": {},
   "outputs": [],
   "source": [
    "for i in np.arange(2):\n",
    "    CSM[52+i] = 1/8*( CSM[40+i*2]+CSM[40+i*2+1] > 0 );\n",
    "    CSM[54+i] = 1/8*( CSM[44+i*2]+CSM[44+i*2+1] > 0 );\n",
    "    CSM[56+i] = 1/8*( CSM[48+i*2]+CSM[48+i*2+1] > 0 );"
   ]
  },
  {
   "cell_type": "markdown",
   "metadata": {},
   "source": [
    "#### Fifteen and sixteen-resource media"
   ]
  },
  {
   "cell_type": "code",
   "execution_count": 21,
   "metadata": {},
   "outputs": [],
   "source": [
    "CSM[58:-1,:] += 1/15\n",
    "CSM[-1,:] += 1/16"
   ]
  },
  {
   "cell_type": "markdown",
   "metadata": {},
   "source": [
    "# Importing the known cross-feeding matrix, derived from metabolic scope expansion."
   ]
  },
  {
   "cell_type": "markdown",
   "metadata": {},
   "source": [
    "In the matrix, rows correspond to input metabolites (upstream resources) and the columns correspond to output metabolites (immediate byproducts)."
   ]
  },
  {
   "cell_type": "code",
   "execution_count": 23,
   "metadata": {},
   "outputs": [],
   "source": [
    "singles = np.array([3,10,14,17,19,21,22,26,28,33,46,49,51,62,63,69]);\n",
    "singles_names = ['glucose','sucrose','fructose','glycerol','fumarate','citrate','mannose','xylose','cellobiose','maltose','galacturonate','starch','mannitol','cellulose','sorbitol','proline'];\n",
    "\n",
    "CFm0 = pd.read_csv('data_metabolism/cf_matrix_upper_bound_mergers.csv', names=np.arange(96)); \n",
    "CFm0 = np.array(CFm0);"
   ]
  },
  {
   "cell_type": "markdown",
   "metadata": {},
   "source": [
    "## Setting the TCA cycle intermediates (core metabolites) to always be produced."
   ]
  },
  {
   "cell_type": "markdown",
   "metadata": {},
   "source": [
    "Because the TCA intermediates are always downstream of every supplied resource we have, we assume that they can always be produced. In the model, every other metabolic byproduct can only be produced if it is a direct byproduct of a resource consumed by a species."
   ]
  },
  {
   "cell_type": "code",
   "execution_count": 24,
   "metadata": {},
   "outputs": [],
   "source": [
    "core_indices = [ 2, 4, 5, 6, 11, 19, 20, 21, 44 ]\n",
    "for ci, cj in itertools.combinations( core_indices, 2 ):\n",
    "    CFm0[ ci, cj ] = 1"
   ]
  },
  {
   "cell_type": "markdown",
   "metadata": {},
   "source": [
    "Ensuring energy conservation. Whenever a resource can produce multiple byproducts, we want the total amount of all byproducts to never exceed the resource itself. Here, we normalize all the byproducts to the upstream resource amount."
   ]
  },
  {
   "cell_type": "code",
   "execution_count": 25,
   "metadata": {},
   "outputs": [],
   "source": [
    "CFm1=np.copy(CFm0)\n",
    "for i in np.arange(np.shape(CFm1)[0]):\n",
    "    if(np.sum(CFm1[i] > 0)  ):\n",
    "        CFm1[i] = CFm1[i]/np.sum(CFm1[i])"
   ]
  },
  {
   "cell_type": "markdown",
   "metadata": {},
   "source": [
    "Defining the resource supply vector for each growth medium, so that it is normalized, and adding a small amount of acetate to kickstart TCA reactions. (This needs to be done because for some resources, the TCA cycle could be far from them, but we assume that TCA intermediates would nevertheless be present.)"
   ]
  },
  {
   "cell_type": "code",
   "execution_count": 27,
   "metadata": {},
   "outputs": [],
   "source": [
    "CFm=CFm1;\n",
    "a = np.zeros((16,np.shape(CFm)[0]));\n",
    "for i in np.arange(16):\n",
    "    a[i,singles[i]]=1;\n",
    "\n",
    "a[:, 4]+=0.2\n",
    "CJ0s = CSM@a;"
   ]
  },
  {
   "cell_type": "markdown",
   "metadata": {},
   "source": [
    "# Resource dynamics"
   ]
  },
  {
   "cell_type": "markdown",
   "metadata": {},
   "source": [
    "This function calculates the change in resource concentrations and species abundances for one time step, according to the consumer-resource dynamical equations in the model."
   ]
  },
  {
   "cell_type": "code",
   "execution_count": 28,
   "metadata": {},
   "outputs": [],
   "source": [
    "def CFlog( t, nc, rij, cf, l, cj0, d, scale=1):\n",
    "    '''\n",
    "    PARAMETERS:\n",
    "        nc : population + concentration abundances, \n",
    "        rij : growth rate, \n",
    "        cf : consumption + cross-feeding coefficients, \n",
    "        l : leakage rate, \n",
    "        cj0 : supply rate, \n",
    "        d : dilution rate, \n",
    "        scale : sets the scale between concentration and population (like a resource to biomass yield)\n",
    "    '''\n",
    "    S = len(nc) - len(cj0);\n",
    "    n = nc[:S]; c=nc[S:]; c=c*(c>0);\n",
    "    dn = (1-l)*np.sum(rij*c, axis=1)-d; \n",
    "    consume = c*np.sum(rij.T*np.exp(n), axis=1); \n",
    "    dc = - scale*np.matmul( consume, cf ).reshape(len(cj0)) + d *(cj0 - c);\n",
    "    \n",
    "    return np.concatenate([dn,dc]);"
   ]
  },
  {
   "cell_type": "markdown",
   "metadata": {},
   "source": [
    "This function runs one set of dynamical simulations for 1000 time units, over all 75 media, using the function for one time step we defined above. "
   ]
  },
  {
   "cell_type": "code",
   "execution_count": 35,
   "metadata": {},
   "outputs": [],
   "source": [
    "def CFrun_real( S=96, R=96, D=0.1, l=0.01, c=1, cfm=CFm,  Cj0s=CJ0s, scale=1):\n",
    "    '''\n",
    "    PARAMETERS:\n",
    "       D : dilution rate, \n",
    "       l : leakage, \n",
    "       c : scale of supply concentration, \n",
    "       cfm : the cross-feeding matrix, \n",
    "       Cj0s : supplied resource concentrations\n",
    "    '''\n",
    "    nss = np.zeros((Cj0s.shape[0],S+R))-8; \n",
    "    \n",
    "    # Construct growth rates\n",
    "    Rij = np.diag(np.random.normal(1,0.01, size=S)  ); # 'specialist' pool\n",
    "    cf = np.diag(np.ones(R)); cf=cf-l*cfm; # cf consists of consumption + cross-feeding\n",
    "    \n",
    "    # Going over all media.\n",
    "    for i in tqdm(np.arange( Cj0s.shape[0] )):\n",
    "        def CF_wrap(t,nc):\n",
    "            return CFlog(t, nc, rij=Rij, cf=cf, l=l, cj0=c*Cj0s[i], d=D, scale=scale  )\n",
    "        \n",
    "        # Solving for one medium.\n",
    "        sol= solve_ivp( CF_wrap, ( 0, 1000 ), y0=np.concatenate( [np.ones(S)*(-7), c*Cj0s[i]] ), method='Radau');\n",
    "        nss[i,:] = sol.y[:,-1];\n",
    "    return nss, sol"
   ]
  },
  {
   "cell_type": "markdown",
   "metadata": {},
   "source": [
    "# Building the plotting suit. Setting colors, parameters, and plot styles."
   ]
  },
  {
   "cell_type": "markdown",
   "metadata": {},
   "source": [
    "This is just to set up the plot that follows, so this can be ignored."
   ]
  },
  {
   "cell_type": "code",
   "execution_count": 7,
   "metadata": {},
   "outputs": [],
   "source": [
    "###########################################\n",
    "# code for plotting the result\n",
    "def plot_real(nss, csm=CSM, th=0):\n",
    "# th is an arbitrary threshold for counting the number of metabolites\n",
    "    fig, ax = plt.subplots(2,2, figsize=(10,12), facecolor='white');\n",
    "    S = np.shape(nss)[-1]//2;\n",
    "    surv = 1*((nss[:,:S])>-7);\n",
    "    media = 1*(nss[:,S:]>th);\n",
    "    # define specialists and generalists\n",
    "    spstat = np.sum(surv[:16], axis=0);\n",
    "    restat = np.sum(media[:16], axis=0);\n",
    "    richness = np.sum(surv, axis=1);\n",
    "    nmet = np.sum(media, axis=1);\n",
    "    special = np.where( (spstat>0)*(spstat<4) )[0]; nspe = np.sum(surv[:16,special], axis=1);\n",
    "    inter = np.where( (spstat>3)*(spstat<14) )[0]; nint = np.sum(surv[:16,inter], axis=1);\n",
    "    general = np.where( (spstat>13) )[0]; ngen = np.sum(surv[:16,general], axis=1);\n",
    "    peri = np.where( (restat>0)*(restat<4) )[0]; nperi = np.sum(media[:16,peri], axis=1);\n",
    "    interm = np.where( (restat>3)*(restat<14) )[0]; nintm = np.sum(media[:16,interm], axis=1);\n",
    "    core = np.where( (restat>13) )[0]; ncore = np.sum(media[:16,core], axis=1);\n",
    "    \n",
    "    ax[0,0].bar(singles_names,ngen, color='#f5a28f')\n",
    "    ax[0,0].bar(singles_names,nint, bottom=ngen, color='#e5dec2')\n",
    "    ax[0,0].bar(singles_names,nspe, bottom=ngen+nint, color='#87babb')\n",
    "    \n",
    "    ax[0,1].bar(singles_names,ncore, color='#f5a28f')\n",
    "    ax[0,1].bar(singles_names,nintm, bottom=ncore, color='#e5dec2')\n",
    "    ax[0,1].bar(singles_names,nperi, bottom=ncore+nintm, color='#87babb')\n",
    "    \n",
    "    ax[0,0].set_xticklabels(labels=singles_names, rotation=90)\n",
    "    ax[0,1].set_xticklabels(labels=singles_names, rotation=90)\n",
    "    \n",
    "    nrs = np.zeros((6,2,2));\n",
    "    for i in np.arange(6):\n",
    "        nr = [1,2,4,8,15,16][i]; \n",
    "        target = np.where(np.sum(csm>0, axis=1)==nr)[0]; survt = surv[target]; mediat=media[target];\n",
    "        ax[1,0].bar( nr, np.sum(survt[:,general])/len(target), color='#f5a28f' );\n",
    "        ax[1,0].bar( nr, np.sum(survt[:,inter])/len(target), bottom=np.sum(survt[:,general])/len(target), color='#e5dec2' );\n",
    "        ax[1,0].bar( nr, np.sum(survt[:,special])/len(target), bottom=np.sum(survt[:,general])/len(target)+np.sum(survt[:,inter])/len(target), color='#87babb' );\n",
    "        ax[1,1].bar( nr, np.sum(mediat[:,core])/len(target), color='#f5a28f' );\n",
    "        ax[1,1].bar( nr, np.sum(mediat[:,interm])/len(target), bottom=np.sum(mediat[:,core])/len(target), color='#e5dec2' );\n",
    "        ax[1,1].bar( nr, np.sum(mediat[:,peri])/len(target), bottom=np.sum(mediat[:,core])/len(target)+np.sum(mediat[:,interm])/len(target), color='#87babb' );\n",
    "        nrs[i,0,0] = np.average(richness[target], axis=0);\n",
    "        nrs[i,0,1] = np.std(richness[target], axis=0)/np.sqrt(len(target));\n",
    "        nrs[i,1,0] = np.average(nmet[target], axis=0);\n",
    "        nrs[i,1,1] = np.std(nmet[target], axis=0)/np.sqrt(len(target));\n",
    "    ax[1,0].errorbar([1,2,4,8,15,16], nrs[:,0,0], yerr=nrs[:,0,1], color='k' );\n",
    "    ax[1,1].errorbar([1,2,4,8,15,16], nrs[:,1,0], yerr=nrs[:,1,1], color='k' );\n",
    "    ax[1,0].set_xlabel('Number of CS');\n",
    "    ax[1,0].set_ylabel('Richness');\n",
    "    ax[0,0].set_ylabel('Richness');\n",
    "    ax[1,1].set_xlabel('Number of CS');\n",
    "    ax[1,1].set_ylabel('Number of metabolites');\n",
    "    ax[0,1].set_ylabel('Number of metabolites');\n",
    "    plt.savefig('trend.pdf')\n",
    "    return fig, ax, nrs"
   ]
  },
  {
   "cell_type": "markdown",
   "metadata": {},
   "source": [
    "# Final piece: running one set of dynamics for a given set of parameters, and plotting the results."
   ]
  },
  {
   "cell_type": "markdown",
   "metadata": {},
   "source": [
    "## Run"
   ]
  },
  {
   "cell_type": "code",
   "execution_count": 36,
   "metadata": {},
   "outputs": [
    {
     "name": "stderr",
     "output_type": "stream",
     "text": [
      "100%|██████████████████████████████████████████████████████████████████████████████████| 75/75 [00:59<00:00,  1.27it/s]\n"
     ]
    }
   ],
   "source": [
    "nss, sol = CFrun_real(l=0.1, D=0.1, c=100, Cj0s=CJ0s, scale=1);"
   ]
  },
  {
   "cell_type": "markdown",
   "metadata": {},
   "source": [
    "## Plot results"
   ]
  },
  {
   "cell_type": "code",
   "execution_count": 37,
   "metadata": {},
   "outputs": [
    {
     "name": "stderr",
     "output_type": "stream",
     "text": [
      "<ipython-input-7-312abc504458>:29: UserWarning: FixedFormatter should only be used together with FixedLocator\n",
      "  ax[0,0].set_xticklabels(labels=singles_names, rotation=90)\n",
      "<ipython-input-7-312abc504458>:30: UserWarning: FixedFormatter should only be used together with FixedLocator\n",
      "  ax[0,1].set_xticklabels(labels=singles_names, rotation=90)\n"
     ]
    },
    {
     "data": {
      "image/png": "[encoded data removed]",
      "text/plain": [
       "<Figure size 720x864 with 4 Axes>"
      ]
     },
     "metadata": {},
     "output_type": "display_data"
    }
   ],
   "source": [
    "fig, ax, nrs = plot_real(nss, th=0.)"
   ]
  }
 ],
 "metadata": {
  "kernelspec": {
   "display_name": "Python 3",
   "language": "python",
   "name": "python3"
  },
  "language_info": {
   "codemirror_mode": {
    "name": "ipython",
    "version": 3
   },
   "file_extension": ".py",
   "mimetype": "text/x-python",
   "name": "python",
   "nbconvert_exporter": "python",
   "pygments_lexer": "ipython3",
   "version": "3.8.3"
  }
 },
 "nbformat": 4,
 "nbformat_minor": 4
}
