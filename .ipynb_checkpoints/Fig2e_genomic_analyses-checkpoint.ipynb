{
 "cells": [
  {
   "cell_type": "code",
   "execution_count": 1,
   "metadata": {},
   "outputs": [
    {
     "name": "stderr",
     "output_type": "stream",
     "text": [
      "C:\\Users\\flame\\miniconda3\\lib\\site-packages\\numpy\\_distributor_init.py:30: UserWarning: loaded more than 1 DLL from .libs:\n",
      "C:\\Users\\flame\\miniconda3\\lib\\site-packages\\numpy\\.libs\\libopenblas.GK7GX5KEQ4F6UYO3P26ULGBQYHGQO7J4.gfortran-win_amd64.dll\n",
      "C:\\Users\\flame\\miniconda3\\lib\\site-packages\\numpy\\.libs\\libopenblas.NOIJJG62EMASZI6NYURL6JBKM4EVBGM7.gfortran-win_amd64.dll\n",
      "  warnings.warn(\"loaded more than 1 DLL from .libs:\"\n"
     ]
    }
   ],
   "source": [
    "import numpy as np\n",
    "import pandas as pd\n",
    "import matplotlib.pyplot as plt"
   ]
  },
  {
   "cell_type": "markdown",
   "metadata": {},
   "source": [
    "# Reading ASV taxonomic data to assign generalist and specialist labels at the family level"
   ]
  },
  {
   "cell_type": "code",
   "execution_count": 2,
   "metadata": {},
   "outputs": [
    {
     "data": {
      "text/html": [
       "<div>\n",
       "<style scoped>\n",
       "    .dataframe tbody tr th:only-of-type {\n",
       "        vertical-align: middle;\n",
       "    }\n",
       "\n",
       "    .dataframe tbody tr th {\n",
       "        vertical-align: top;\n",
       "    }\n",
       "\n",
       "    .dataframe thead th {\n",
       "        text-align: right;\n",
       "    }\n",
       "</style>\n",
       "<table border=\"1\" class=\"dataframe\">\n",
       "  <thead>\n",
       "    <tr style=\"text-align: right;\">\n",
       "      <th></th>\n",
       "      <th>Kingdom</th>\n",
       "      <th>Phylum</th>\n",
       "      <th>Class</th>\n",
       "      <th>Order</th>\n",
       "      <th>Family</th>\n",
       "      <th>Genus</th>\n",
       "      <th>Species</th>\n",
       "    </tr>\n",
       "  </thead>\n",
       "  <tbody>\n",
       "    <tr>\n",
       "      <th>ASV24</th>\n",
       "      <td>Bacteria</td>\n",
       "      <td>Proteobacteria</td>\n",
       "      <td>Gammaproteobacteria</td>\n",
       "      <td>Pseudomonadales</td>\n",
       "      <td>Pseudomonadaceae</td>\n",
       "      <td>Pseudomonas</td>\n",
       "      <td></td>\n",
       "    </tr>\n",
       "    <tr>\n",
       "      <th>ASV9</th>\n",
       "      <td>Bacteria</td>\n",
       "      <td>Proteobacteria</td>\n",
       "      <td>Gammaproteobacteria</td>\n",
       "      <td>Pseudomonadales</td>\n",
       "      <td>Pseudomonadaceae</td>\n",
       "      <td>Pseudomonas</td>\n",
       "      <td></td>\n",
       "    </tr>\n",
       "    <tr>\n",
       "      <th>ASV148</th>\n",
       "      <td>Bacteria</td>\n",
       "      <td>Proteobacteria</td>\n",
       "      <td>Gammaproteobacteria</td>\n",
       "      <td>Pseudomonadales</td>\n",
       "      <td>Pseudomonadaceae</td>\n",
       "      <td>Pseudomonas</td>\n",
       "      <td>trivialis</td>\n",
       "    </tr>\n",
       "    <tr>\n",
       "      <th>ASV29</th>\n",
       "      <td>Bacteria</td>\n",
       "      <td>Proteobacteria</td>\n",
       "      <td>Gammaproteobacteria</td>\n",
       "      <td>Pseudomonadales</td>\n",
       "      <td>Pseudomonadaceae</td>\n",
       "      <td>Pseudomonas</td>\n",
       "      <td></td>\n",
       "    </tr>\n",
       "    <tr>\n",
       "      <th>ASV22</th>\n",
       "      <td>Bacteria</td>\n",
       "      <td>Proteobacteria</td>\n",
       "      <td>Gammaproteobacteria</td>\n",
       "      <td>Pseudomonadales</td>\n",
       "      <td>Pseudomonadaceae</td>\n",
       "      <td>Pseudomonas</td>\n",
       "      <td></td>\n",
       "    </tr>\n",
       "  </tbody>\n",
       "</table>\n",
       "</div>"
      ],
      "text/plain": [
       "         Kingdom          Phylum                Class            Order  \\\n",
       "ASV24   Bacteria  Proteobacteria  Gammaproteobacteria  Pseudomonadales   \n",
       "ASV9    Bacteria  Proteobacteria  Gammaproteobacteria  Pseudomonadales   \n",
       "ASV148  Bacteria  Proteobacteria  Gammaproteobacteria  Pseudomonadales   \n",
       "ASV29   Bacteria  Proteobacteria  Gammaproteobacteria  Pseudomonadales   \n",
       "ASV22   Bacteria  Proteobacteria  Gammaproteobacteria  Pseudomonadales   \n",
       "\n",
       "                  Family        Genus    Species  \n",
       "ASV24   Pseudomonadaceae  Pseudomonas             \n",
       "ASV9    Pseudomonadaceae  Pseudomonas             \n",
       "ASV148  Pseudomonadaceae  Pseudomonas  trivialis  \n",
       "ASV29   Pseudomonadaceae  Pseudomonas             \n",
       "ASV22   Pseudomonadaceae  Pseudomonas             "
      ]
     },
     "execution_count": 2,
     "metadata": {},
     "output_type": "execute_result"
    }
   ],
   "source": [
    "df = pd.read_csv( 'data_genomic/asv_taxonomic_data.txt', sep='\\t' ).fillna( '' )\n",
    "df.head()"
   ]
  },
  {
   "cell_type": "markdown",
   "metadata": {},
   "source": [
    "### Defining generalist and specialist families (from a previous analysis based on occupancy)."
   ]
  },
  {
   "cell_type": "code",
   "execution_count": 3,
   "metadata": {},
   "outputs": [],
   "source": [
    "generalist_families = [ \"Burkholderiaceae\", \"Enterobacteriaceae\", \"Rhodobacteraceae\",\n",
    "                        \"Pseudomonadaceae\", \"Xanthomonadaceae\",\"Rhizobiaceae\", \"Micrococcaceae\" ]\n",
    "specialist_families = [ \"Bacillaceae\",\"Bdellovibrionaceae\",\"Beijerinckiaceae\",\"Cellulomonadaceae\",\n",
    "                        \"Cellvibrionaceae\",\"Demequinaceae\", \"Hymenobacteraceae\", \"Hyphomicrobiaceae\",\n",
    "                        \"Labraceae\",\"Methylophilaceae\",\"Kaistiaceae\",\"Nocardiaceae\",\"Promicronosporaceae\",\n",
    "                        \"Rhodanobacteraceae\", \"Rhodocyclaceae\",\"Spirosomaceae\",\"Streptomycetaceae\", \n",
    "                        \"Microbacteriaceae\", \"Xanthobacteraceae\" ]"
   ]
  },
  {
   "cell_type": "markdown",
   "metadata": {},
   "source": [
    "### Loading the rrnDB database."
   ]
  },
  {
   "cell_type": "code",
   "execution_count": 4,
   "metadata": {},
   "outputs": [],
   "source": [
    "rdb = pd.read_csv( 'data_genomic/rrnDB-5.6.tsv', sep='\\t' ).fillna( '' )"
   ]
  },
  {
   "cell_type": "markdown",
   "metadata": {},
   "source": [
    "### Adding 16S copy numbers to the ASV dataframe"
   ]
  },
  {
   "cell_type": "code",
   "execution_count": 5,
   "metadata": {},
   "outputs": [],
   "source": [
    "all_copy_nums = []\n",
    "for idx, row in df.iterrows():\n",
    "    copy_nums = [ r['16S gene count'] for idx, r in rdb.iterrows() if r['Data source organism name'].split(' ')[0] == row['Genus'] and r['16S gene count'] != '' ]\n",
    "    if len( copy_nums ) == 0:\n",
    "        all_copy_nums.append( 0 )\n",
    "        continue\n",
    "    curr_copy_num = np.median( copy_nums )\n",
    "    all_copy_nums.append( curr_copy_num )\n",
    "\n",
    "df[ '16S_copy_num' ] = all_copy_nums"
   ]
  },
  {
   "cell_type": "markdown",
   "metadata": {},
   "source": [
    "### Dropping all ASVs without a known copy number (these will appear as copy number 0)."
   ]
  },
  {
   "cell_type": "code",
   "execution_count": 6,
   "metadata": {},
   "outputs": [],
   "source": [
    "to_drop_asvs = []\n",
    "for idx, row in df.iterrows():\n",
    "    if row['16S_copy_num' ] == 0.0:\n",
    "        to_drop_asvs.append( idx )\n",
    "\n",
    "df = df.drop( to_drop_asvs )"
   ]
  },
  {
   "cell_type": "markdown",
   "metadata": {},
   "source": [
    "### Calculating the genus-wise 16S copy number. "
   ]
  },
  {
   "cell_type": "code",
   "execution_count": 7,
   "metadata": {},
   "outputs": [],
   "source": [
    "genus_to_16S_dict = dict( list( set( [ tuple( e ) for e in df.loc[ :, [ 'Genus' , '16S_copy_num' ] ].values if e[1] != 0.0 ] ) ) )"
   ]
  },
  {
   "cell_type": "markdown",
   "metadata": {},
   "source": [
    "# Calculating generalists and specialists based on occupancy"
   ]
  },
  {
   "cell_type": "code",
   "execution_count": 8,
   "metadata": {},
   "outputs": [],
   "source": [
    "dat = pd.read_csv( 'data_genomic/dat_day7_ok.csv', sep=',' )"
   ]
  },
  {
   "cell_type": "code",
   "execution_count": 9,
   "metadata": {},
   "outputs": [
    {
     "data": {
      "text/html": [
       "<div>\n",
       "<style scoped>\n",
       "    .dataframe tbody tr th:only-of-type {\n",
       "        vertical-align: middle;\n",
       "    }\n",
       "\n",
       "    .dataframe tbody tr th {\n",
       "        vertical-align: top;\n",
       "    }\n",
       "\n",
       "    .dataframe thead th {\n",
       "        text-align: right;\n",
       "    }\n",
       "</style>\n",
       "<table border=\"1\" class=\"dataframe\">\n",
       "  <thead>\n",
       "    <tr style=\"text-align: right;\">\n",
       "      <th></th>\n",
       "      <th>Unnamed: 0</th>\n",
       "      <th>OTU</th>\n",
       "      <th>Sample</th>\n",
       "      <th>Abundance</th>\n",
       "      <th>Plate</th>\n",
       "      <th>Well</th>\n",
       "      <th>ID</th>\n",
       "      <th>medium</th>\n",
       "      <th>dilution_day</th>\n",
       "      <th>rep</th>\n",
       "      <th>...</th>\n",
       "      <th>cellulose_c</th>\n",
       "      <th>starch_c</th>\n",
       "      <th>FC_number</th>\n",
       "      <th>Kingdom</th>\n",
       "      <th>Phylum</th>\n",
       "      <th>Class</th>\n",
       "      <th>Order</th>\n",
       "      <th>Family</th>\n",
       "      <th>Genus</th>\n",
       "      <th>Species</th>\n",
       "    </tr>\n",
       "  </thead>\n",
       "  <tbody>\n",
       "    <tr>\n",
       "      <th>0</th>\n",
       "      <td>504618</td>\n",
       "      <td>ASV3</td>\n",
       "      <td>277022_2_sequence.fastq</td>\n",
       "      <td>24665</td>\n",
       "      <td>1</td>\n",
       "      <td>B10</td>\n",
       "      <td>22</td>\n",
       "      <td>8</td>\n",
       "      <td>7</td>\n",
       "      <td>a</td>\n",
       "      <td>...</td>\n",
       "      <td>0.000000</td>\n",
       "      <td>0.000000</td>\n",
       "      <td>2</td>\n",
       "      <td>Bacteria</td>\n",
       "      <td>Proteobacteria</td>\n",
       "      <td>Gammaproteobacteria</td>\n",
       "      <td>Enterobacteriales</td>\n",
       "      <td>Enterobacteriaceae</td>\n",
       "      <td>Klebsiella</td>\n",
       "      <td>NaN</td>\n",
       "    </tr>\n",
       "    <tr>\n",
       "      <th>1</th>\n",
       "      <td>39</td>\n",
       "      <td>ASV1</td>\n",
       "      <td>277086_2_sequence.fastq</td>\n",
       "      <td>22721</td>\n",
       "      <td>1</td>\n",
       "      <td>H2</td>\n",
       "      <td>86</td>\n",
       "      <td>29</td>\n",
       "      <td>7</td>\n",
       "      <td>b</td>\n",
       "      <td>...</td>\n",
       "      <td>0.000000</td>\n",
       "      <td>0.000000</td>\n",
       "      <td>2</td>\n",
       "      <td>Bacteria</td>\n",
       "      <td>Proteobacteria</td>\n",
       "      <td>Gammaproteobacteria</td>\n",
       "      <td>Pseudomonadales</td>\n",
       "      <td>Pseudomonadaceae</td>\n",
       "      <td>Pseudomonas</td>\n",
       "      <td>NaN</td>\n",
       "    </tr>\n",
       "    <tr>\n",
       "      <th>2</th>\n",
       "      <td>504453</td>\n",
       "      <td>ASV3</td>\n",
       "      <td>278019_2_sequence.fastq</td>\n",
       "      <td>22424</td>\n",
       "      <td>2</td>\n",
       "      <td>B7</td>\n",
       "      <td>115</td>\n",
       "      <td>39</td>\n",
       "      <td>7</td>\n",
       "      <td>a</td>\n",
       "      <td>...</td>\n",
       "      <td>0.000000</td>\n",
       "      <td>0.000000</td>\n",
       "      <td>2</td>\n",
       "      <td>Bacteria</td>\n",
       "      <td>Proteobacteria</td>\n",
       "      <td>Gammaproteobacteria</td>\n",
       "      <td>Enterobacteriales</td>\n",
       "      <td>Enterobacteriaceae</td>\n",
       "      <td>Klebsiella</td>\n",
       "      <td>NaN</td>\n",
       "    </tr>\n",
       "    <tr>\n",
       "      <th>3</th>\n",
       "      <td>8</td>\n",
       "      <td>ASV1</td>\n",
       "      <td>277019_2_sequence.fastq</td>\n",
       "      <td>21797</td>\n",
       "      <td>1</td>\n",
       "      <td>B7</td>\n",
       "      <td>19</td>\n",
       "      <td>7</td>\n",
       "      <td>7</td>\n",
       "      <td>a</td>\n",
       "      <td>...</td>\n",
       "      <td>0.125000</td>\n",
       "      <td>0.000000</td>\n",
       "      <td>8</td>\n",
       "      <td>Bacteria</td>\n",
       "      <td>Proteobacteria</td>\n",
       "      <td>Gammaproteobacteria</td>\n",
       "      <td>Pseudomonadales</td>\n",
       "      <td>Pseudomonadaceae</td>\n",
       "      <td>Pseudomonas</td>\n",
       "      <td>NaN</td>\n",
       "    </tr>\n",
       "    <tr>\n",
       "      <th>4</th>\n",
       "      <td>111</td>\n",
       "      <td>ASV1</td>\n",
       "      <td>277001_2_sequence.fastq</td>\n",
       "      <td>21735</td>\n",
       "      <td>1</td>\n",
       "      <td>A1</td>\n",
       "      <td>1</td>\n",
       "      <td>1</td>\n",
       "      <td>7</td>\n",
       "      <td>a</td>\n",
       "      <td>...</td>\n",
       "      <td>0.000000</td>\n",
       "      <td>0.000000</td>\n",
       "      <td>2</td>\n",
       "      <td>Bacteria</td>\n",
       "      <td>Proteobacteria</td>\n",
       "      <td>Gammaproteobacteria</td>\n",
       "      <td>Pseudomonadales</td>\n",
       "      <td>Pseudomonadaceae</td>\n",
       "      <td>Pseudomonas</td>\n",
       "      <td>NaN</td>\n",
       "    </tr>\n",
       "    <tr>\n",
       "      <th>...</th>\n",
       "      <td>...</td>\n",
       "      <td>...</td>\n",
       "      <td>...</td>\n",
       "      <td>...</td>\n",
       "      <td>...</td>\n",
       "      <td>...</td>\n",
       "      <td>...</td>\n",
       "      <td>...</td>\n",
       "      <td>...</td>\n",
       "      <td>...</td>\n",
       "      <td>...</td>\n",
       "      <td>...</td>\n",
       "      <td>...</td>\n",
       "      <td>...</td>\n",
       "      <td>...</td>\n",
       "      <td>...</td>\n",
       "      <td>...</td>\n",
       "      <td>...</td>\n",
       "      <td>...</td>\n",
       "      <td>...</td>\n",
       "      <td>...</td>\n",
       "    </tr>\n",
       "    <tr>\n",
       "      <th>796538</th>\n",
       "      <td>796539</td>\n",
       "      <td>ASV999</td>\n",
       "      <td>277093_2_sequence.fastq</td>\n",
       "      <td>0</td>\n",
       "      <td>1</td>\n",
       "      <td>H9</td>\n",
       "      <td>93</td>\n",
       "      <td>31</td>\n",
       "      <td>7</td>\n",
       "      <td>c</td>\n",
       "      <td>...</td>\n",
       "      <td>0.000000</td>\n",
       "      <td>0.500000</td>\n",
       "      <td>2</td>\n",
       "      <td>Bacteria</td>\n",
       "      <td>Firmicutes</td>\n",
       "      <td>Bacilli</td>\n",
       "      <td>Bacillales</td>\n",
       "      <td>Planococcaceae</td>\n",
       "      <td>NaN</td>\n",
       "      <td>NaN</td>\n",
       "    </tr>\n",
       "    <tr>\n",
       "      <th>796539</th>\n",
       "      <td>796540</td>\n",
       "      <td>ASV999</td>\n",
       "      <td>277062_2_sequence.fastq</td>\n",
       "      <td>0</td>\n",
       "      <td>1</td>\n",
       "      <td>F2</td>\n",
       "      <td>62</td>\n",
       "      <td>21</td>\n",
       "      <td>7</td>\n",
       "      <td>b</td>\n",
       "      <td>...</td>\n",
       "      <td>0.125000</td>\n",
       "      <td>0.000000</td>\n",
       "      <td>8</td>\n",
       "      <td>Bacteria</td>\n",
       "      <td>Firmicutes</td>\n",
       "      <td>Bacilli</td>\n",
       "      <td>Bacillales</td>\n",
       "      <td>Planococcaceae</td>\n",
       "      <td>NaN</td>\n",
       "      <td>NaN</td>\n",
       "    </tr>\n",
       "    <tr>\n",
       "      <th>796540</th>\n",
       "      <td>796541</td>\n",
       "      <td>ASV999</td>\n",
       "      <td>279040_2_sequence.fastq</td>\n",
       "      <td>0</td>\n",
       "      <td>3</td>\n",
       "      <td>D4</td>\n",
       "      <td>232</td>\n",
       "      <td>75</td>\n",
       "      <td>7</td>\n",
       "      <td>b</td>\n",
       "      <td>...</td>\n",
       "      <td>0.062500</td>\n",
       "      <td>0.062500</td>\n",
       "      <td>16</td>\n",
       "      <td>Bacteria</td>\n",
       "      <td>Firmicutes</td>\n",
       "      <td>Bacilli</td>\n",
       "      <td>Bacillales</td>\n",
       "      <td>Planococcaceae</td>\n",
       "      <td>NaN</td>\n",
       "      <td>NaN</td>\n",
       "    </tr>\n",
       "    <tr>\n",
       "      <th>796541</th>\n",
       "      <td>796542</td>\n",
       "      <td>ASV999</td>\n",
       "      <td>278094_2_sequence.fastq</td>\n",
       "      <td>0</td>\n",
       "      <td>2</td>\n",
       "      <td>H10</td>\n",
       "      <td>190</td>\n",
       "      <td>64</td>\n",
       "      <td>7</td>\n",
       "      <td>a</td>\n",
       "      <td>...</td>\n",
       "      <td>0.066667</td>\n",
       "      <td>0.066667</td>\n",
       "      <td>15</td>\n",
       "      <td>Bacteria</td>\n",
       "      <td>Firmicutes</td>\n",
       "      <td>Bacilli</td>\n",
       "      <td>Bacillales</td>\n",
       "      <td>Planococcaceae</td>\n",
       "      <td>NaN</td>\n",
       "      <td>NaN</td>\n",
       "    </tr>\n",
       "    <tr>\n",
       "      <th>796542</th>\n",
       "      <td>796543</td>\n",
       "      <td>ASV999</td>\n",
       "      <td>278054_2_sequence.fastq</td>\n",
       "      <td>0</td>\n",
       "      <td>2</td>\n",
       "      <td>E6</td>\n",
       "      <td>150</td>\n",
       "      <td>50</td>\n",
       "      <td>7</td>\n",
       "      <td>c</td>\n",
       "      <td>...</td>\n",
       "      <td>0.000000</td>\n",
       "      <td>0.000000</td>\n",
       "      <td>1</td>\n",
       "      <td>Bacteria</td>\n",
       "      <td>Firmicutes</td>\n",
       "      <td>Bacilli</td>\n",
       "      <td>Bacillales</td>\n",
       "      <td>Planococcaceae</td>\n",
       "      <td>NaN</td>\n",
       "      <td>NaN</td>\n",
       "    </tr>\n",
       "  </tbody>\n",
       "</table>\n",
       "<p>796543 rows × 55 columns</p>\n",
       "</div>"
      ],
      "text/plain": [
       "        Unnamed: 0     OTU                   Sample  Abundance  Plate Well  \\\n",
       "0           504618    ASV3  277022_2_sequence.fastq      24665      1  B10   \n",
       "1               39    ASV1  277086_2_sequence.fastq      22721      1   H2   \n",
       "2           504453    ASV3  278019_2_sequence.fastq      22424      2   B7   \n",
       "3                8    ASV1  277019_2_sequence.fastq      21797      1   B7   \n",
       "4              111    ASV1  277001_2_sequence.fastq      21735      1   A1   \n",
       "...            ...     ...                      ...        ...    ...  ...   \n",
       "796538      796539  ASV999  277093_2_sequence.fastq          0      1   H9   \n",
       "796539      796540  ASV999  277062_2_sequence.fastq          0      1   F2   \n",
       "796540      796541  ASV999  279040_2_sequence.fastq          0      3   D4   \n",
       "796541      796542  ASV999  278094_2_sequence.fastq          0      2  H10   \n",
       "796542      796543  ASV999  278054_2_sequence.fastq          0      2   E6   \n",
       "\n",
       "         ID  medium  dilution_day rep  ... cellulose_c  starch_c FC_number  \\\n",
       "0        22       8             7   a  ...    0.000000  0.000000         2   \n",
       "1        86      29             7   b  ...    0.000000  0.000000         2   \n",
       "2       115      39             7   a  ...    0.000000  0.000000         2   \n",
       "3        19       7             7   a  ...    0.125000  0.000000         8   \n",
       "4         1       1             7   a  ...    0.000000  0.000000         2   \n",
       "...     ...     ...           ...  ..  ...         ...       ...       ...   \n",
       "796538   93      31             7   c  ...    0.000000  0.500000         2   \n",
       "796539   62      21             7   b  ...    0.125000  0.000000         8   \n",
       "796540  232      75             7   b  ...    0.062500  0.062500        16   \n",
       "796541  190      64             7   a  ...    0.066667  0.066667        15   \n",
       "796542  150      50             7   c  ...    0.000000  0.000000         1   \n",
       "\n",
       "         Kingdom          Phylum                Class              Order  \\\n",
       "0       Bacteria  Proteobacteria  Gammaproteobacteria  Enterobacteriales   \n",
       "1       Bacteria  Proteobacteria  Gammaproteobacteria    Pseudomonadales   \n",
       "2       Bacteria  Proteobacteria  Gammaproteobacteria  Enterobacteriales   \n",
       "3       Bacteria  Proteobacteria  Gammaproteobacteria    Pseudomonadales   \n",
       "4       Bacteria  Proteobacteria  Gammaproteobacteria    Pseudomonadales   \n",
       "...          ...             ...                  ...                ...   \n",
       "796538  Bacteria      Firmicutes              Bacilli         Bacillales   \n",
       "796539  Bacteria      Firmicutes              Bacilli         Bacillales   \n",
       "796540  Bacteria      Firmicutes              Bacilli         Bacillales   \n",
       "796541  Bacteria      Firmicutes              Bacilli         Bacillales   \n",
       "796542  Bacteria      Firmicutes              Bacilli         Bacillales   \n",
       "\n",
       "                    Family        Genus Species  \n",
       "0       Enterobacteriaceae   Klebsiella     NaN  \n",
       "1         Pseudomonadaceae  Pseudomonas     NaN  \n",
       "2       Enterobacteriaceae   Klebsiella     NaN  \n",
       "3         Pseudomonadaceae  Pseudomonas     NaN  \n",
       "4         Pseudomonadaceae  Pseudomonas     NaN  \n",
       "...                    ...          ...     ...  \n",
       "796538      Planococcaceae          NaN     NaN  \n",
       "796539      Planococcaceae          NaN     NaN  \n",
       "796540      Planococcaceae          NaN     NaN  \n",
       "796541      Planococcaceae          NaN     NaN  \n",
       "796542      Planococcaceae          NaN     NaN  \n",
       "\n",
       "[796543 rows x 55 columns]"
      ]
     },
     "execution_count": 9,
     "metadata": {},
     "output_type": "execute_result"
    }
   ],
   "source": [
    "dat"
   ]
  },
  {
   "cell_type": "markdown",
   "metadata": {},
   "source": [
    "Defining the names of the carbon sources."
   ]
  },
  {
   "cell_type": "code",
   "execution_count": 10,
   "metadata": {},
   "outputs": [],
   "source": [
    "cs_names = ['glucose', 'fructose', 'xylose', 'mannose',\n",
    "            'cellobiose', 'maltose', 'sucrose', 'citric_acid', 'fumaric_acid',\n",
    "            'galacturonic_acid', 'mannitol', 'sorbitol', 'glycerol', 'proline',\n",
    "            'cellulose', 'starch']"
   ]
  },
  {
   "cell_type": "markdown",
   "metadata": {},
   "source": [
    "### Calculating occupancy, i.e., mapping ASVs to the single carbon sources they were found in"
   ]
  },
  {
   "cell_type": "code",
   "execution_count": 11,
   "metadata": {},
   "outputs": [],
   "source": [
    "rel_asvs = []\n",
    "for e in df.index:\n",
    "    rel_asvs.append(e)\n",
    "rel_asvs = list( set( rel_asvs ) )\n",
    "\n",
    "asv_to_cs_dict = {}\n",
    "for tasv in rel_asvs:\n",
    "    asv_to_cs_dict[ tasv ] = 0\n",
    "    for tcs in cs_names:\n",
    "        trows = dat[ np.logical_and( dat['C_number'] == 1, dat['OTU'] == tasv ) ]\n",
    "        if trows[ trows[tcs] == 'Y' ]['Abundance'].values.any():\n",
    "            asv_to_cs_dict[ tasv ] += 1"
   ]
  },
  {
   "cell_type": "markdown",
   "metadata": {},
   "source": [
    "### Defining specialist ASVs as being present in <= 3 single resource environments, and generalist ASVs being present in >= 13 environments."
   ]
  },
  {
   "cell_type": "code",
   "execution_count": 12,
   "metadata": {},
   "outputs": [],
   "source": [
    "end = [ e for e in asv_to_cs_dict if asv_to_cs_dict[e] <= 3 ]\n",
    "cos = [ e for e in asv_to_cs_dict if asv_to_cs_dict[e] >= 13 ]"
   ]
  },
  {
   "cell_type": "markdown",
   "metadata": {},
   "source": [
    "### Defining specialist and generalist genera."
   ]
  },
  {
   "cell_type": "code",
   "execution_count": 13,
   "metadata": {},
   "outputs": [],
   "source": [
    "end_genera = set( [ df.loc[e]['Genus'] for e in end if df.loc[e]['Genus'] in genus_to_16S_dict ] )\n",
    "cos_genera = set( [ df.loc[e]['Genus'] for e in cos if df.loc[e]['Genus'] in genus_to_16S_dict ] )"
   ]
  },
  {
   "cell_type": "markdown",
   "metadata": {},
   "source": [
    "### Calculating family-wide 16S median copy number."
   ]
  },
  {
   "cell_type": "code",
   "execution_count": 14,
   "metadata": {},
   "outputs": [
    {
     "data": {
      "text/html": [
       "<div>\n",
       "<style scoped>\n",
       "    .dataframe tbody tr th:only-of-type {\n",
       "        vertical-align: middle;\n",
       "    }\n",
       "\n",
       "    .dataframe tbody tr th {\n",
       "        vertical-align: top;\n",
       "    }\n",
       "\n",
       "    .dataframe thead th {\n",
       "        text-align: right;\n",
       "    }\n",
       "</style>\n",
       "<table border=\"1\" class=\"dataframe\">\n",
       "  <thead>\n",
       "    <tr style=\"text-align: right;\">\n",
       "      <th></th>\n",
       "      <th>Family</th>\n",
       "      <th>Genus</th>\n",
       "      <th>16S_copy_num</th>\n",
       "    </tr>\n",
       "  </thead>\n",
       "  <tbody>\n",
       "    <tr>\n",
       "      <th>0</th>\n",
       "      <td>Promicromonosporaceae</td>\n",
       "      <td>Cellulosimicrobium</td>\n",
       "      <td>3.0</td>\n",
       "    </tr>\n",
       "    <tr>\n",
       "      <th>1</th>\n",
       "      <td>Micrococcaceae</td>\n",
       "      <td>Pseudarthrobacter</td>\n",
       "      <td>5.0</td>\n",
       "    </tr>\n",
       "    <tr>\n",
       "      <th>2</th>\n",
       "      <td>Paenibacillaceae</td>\n",
       "      <td>Brevibacillus</td>\n",
       "      <td>12.5</td>\n",
       "    </tr>\n",
       "    <tr>\n",
       "      <th>3</th>\n",
       "      <td>Bacillaceae</td>\n",
       "      <td>Bacillus</td>\n",
       "      <td>10.0</td>\n",
       "    </tr>\n",
       "    <tr>\n",
       "      <th>4</th>\n",
       "      <td>Rhodanobacteraceae</td>\n",
       "      <td>Rhodanobacter</td>\n",
       "      <td>2.0</td>\n",
       "    </tr>\n",
       "  </tbody>\n",
       "</table>\n",
       "</div>"
      ],
      "text/plain": [
       "                  Family               Genus  16S_copy_num\n",
       "0  Promicromonosporaceae  Cellulosimicrobium           3.0\n",
       "1         Micrococcaceae   Pseudarthrobacter           5.0\n",
       "2       Paenibacillaceae       Brevibacillus          12.5\n",
       "3            Bacillaceae            Bacillus          10.0\n",
       "4     Rhodanobacteraceae       Rhodanobacter           2.0"
      ]
     },
     "execution_count": 14,
     "metadata": {},
     "output_type": "execute_result"
    }
   ],
   "source": [
    "family_to_16S_dict = {}\n",
    "all_copy_nums = []\n",
    "for idx, row in df.iterrows():\n",
    "    copy_num = np.median( [ r['16S gene count'] for idx, r in rdb.iterrows() if r['Data source organism name'].split(' ')[0] == row['Genus'] and r['16S gene count'] != '' ] )\n",
    "    try:\n",
    "        family_to_16S_dict[ row[ 'Family' ] ].append( copy_num )\n",
    "    except:\n",
    "        family_to_16S_dict[ row[ 'Family' ] ] = [ copy_num ]\n",
    "\n",
    "famdf = pd.DataFrame( set( [ tuple( e) for e in df.loc[ :, [ 'Family', 'Genus', '16S_copy_num' ] ].values if e[2] > 0.0 ] ), columns=['Family', 'Genus', '16S_copy_num'] )\n",
    "famdf.head()"
   ]
  },
  {
   "cell_type": "code",
   "execution_count": 15,
   "metadata": {},
   "outputs": [],
   "source": [
    "fam_to_16s = {}\n",
    "for idx, row in famdf.iterrows():\n",
    "    try:\n",
    "        fam_to_16s[ row[ 'Family' ] ].append( row[ '16S_copy_num' ] )\n",
    "    except:\n",
    "        fam_to_16s[ row[ 'Family' ] ] = [ row[ '16S_copy_num' ] ]"
   ]
  },
  {
   "cell_type": "code",
   "execution_count": 16,
   "metadata": {},
   "outputs": [],
   "source": [
    "fam_to_16s_median = { e : np.median( fam_to_16s[ e ] ) for e in fam_to_16s }"
   ]
  },
  {
   "cell_type": "markdown",
   "metadata": {},
   "source": [
    "# Compiling family and genus level median copy numbers into one table"
   ]
  },
  {
   "cell_type": "code",
   "execution_count": 17,
   "metadata": {},
   "outputs": [],
   "source": [
    "import seaborn as sns\n",
    "plotdf = pd.DataFrame()\n",
    "\n",
    "types, vals, kinds = [], [], []\n",
    "\n",
    "for e in cos_genera:\n",
    "    types.append( 'cosmopolitan' )\n",
    "    kinds.append( 'genus' )\n",
    "    vals.append( genus_to_16S_dict[ e ] )\n",
    "\n",
    "for e in end_genera:\n",
    "    types.append( 'endemic' )\n",
    "    kinds.append( 'genus' )\n",
    "    vals.append( genus_to_16S_dict[ e ] )\n",
    "\n",
    "for e in generalist_families:\n",
    "    if e in fam_to_16s_median.keys():\n",
    "        types.append( 'cosmopolitan' )\n",
    "        kinds.append( 'family' )\n",
    "        vals.append( fam_to_16s_median[ e ] )\n",
    "\n",
    "for e in specialist_families:\n",
    "    if e in fam_to_16s_median.keys():\n",
    "        types.append( 'endemic' )\n",
    "        kinds.append( 'family' )\n",
    "        vals.append( fam_to_16s_median[ e ] )\n",
    "\n",
    "plotdf[ 'type' ] = types\n",
    "plotdf[ 'level' ] = kinds\n",
    "plotdf[ '16s_copy_num' ] = vals"
   ]
  },
  {
   "cell_type": "code",
   "execution_count": 18,
   "metadata": {},
   "outputs": [
    {
     "data": {
      "text/html": [
       "<div>\n",
       "<style scoped>\n",
       "    .dataframe tbody tr th:only-of-type {\n",
       "        vertical-align: middle;\n",
       "    }\n",
       "\n",
       "    .dataframe tbody tr th {\n",
       "        vertical-align: top;\n",
       "    }\n",
       "\n",
       "    .dataframe thead th {\n",
       "        text-align: right;\n",
       "    }\n",
       "</style>\n",
       "<table border=\"1\" class=\"dataframe\">\n",
       "  <thead>\n",
       "    <tr style=\"text-align: right;\">\n",
       "      <th></th>\n",
       "      <th>type</th>\n",
       "      <th>level</th>\n",
       "      <th>16s_copy_num</th>\n",
       "    </tr>\n",
       "  </thead>\n",
       "  <tbody>\n",
       "    <tr>\n",
       "      <th>0</th>\n",
       "      <td>cosmopolitan</td>\n",
       "      <td>genus</td>\n",
       "      <td>3.0</td>\n",
       "    </tr>\n",
       "    <tr>\n",
       "      <th>1</th>\n",
       "      <td>cosmopolitan</td>\n",
       "      <td>genus</td>\n",
       "      <td>6.0</td>\n",
       "    </tr>\n",
       "    <tr>\n",
       "      <th>2</th>\n",
       "      <td>cosmopolitan</td>\n",
       "      <td>genus</td>\n",
       "      <td>1.0</td>\n",
       "    </tr>\n",
       "    <tr>\n",
       "      <th>3</th>\n",
       "      <td>cosmopolitan</td>\n",
       "      <td>genus</td>\n",
       "      <td>5.0</td>\n",
       "    </tr>\n",
       "    <tr>\n",
       "      <th>4</th>\n",
       "      <td>cosmopolitan</td>\n",
       "      <td>genus</td>\n",
       "      <td>5.0</td>\n",
       "    </tr>\n",
       "    <tr>\n",
       "      <th>...</th>\n",
       "      <td>...</td>\n",
       "      <td>...</td>\n",
       "      <td>...</td>\n",
       "    </tr>\n",
       "    <tr>\n",
       "      <th>87</th>\n",
       "      <td>endemic</td>\n",
       "      <td>family</td>\n",
       "      <td>2.0</td>\n",
       "    </tr>\n",
       "    <tr>\n",
       "      <th>88</th>\n",
       "      <td>endemic</td>\n",
       "      <td>family</td>\n",
       "      <td>3.5</td>\n",
       "    </tr>\n",
       "    <tr>\n",
       "      <th>89</th>\n",
       "      <td>endemic</td>\n",
       "      <td>family</td>\n",
       "      <td>6.0</td>\n",
       "    </tr>\n",
       "    <tr>\n",
       "      <th>90</th>\n",
       "      <td>endemic</td>\n",
       "      <td>family</td>\n",
       "      <td>2.0</td>\n",
       "    </tr>\n",
       "    <tr>\n",
       "      <th>91</th>\n",
       "      <td>endemic</td>\n",
       "      <td>family</td>\n",
       "      <td>2.0</td>\n",
       "    </tr>\n",
       "  </tbody>\n",
       "</table>\n",
       "<p>92 rows × 3 columns</p>\n",
       "</div>"
      ],
      "text/plain": [
       "            type   level  16s_copy_num\n",
       "0   cosmopolitan   genus           3.0\n",
       "1   cosmopolitan   genus           6.0\n",
       "2   cosmopolitan   genus           1.0\n",
       "3   cosmopolitan   genus           5.0\n",
       "4   cosmopolitan   genus           5.0\n",
       "..           ...     ...           ...\n",
       "87       endemic  family           2.0\n",
       "88       endemic  family           3.5\n",
       "89       endemic  family           6.0\n",
       "90       endemic  family           2.0\n",
       "91       endemic  family           2.0\n",
       "\n",
       "[92 rows x 3 columns]"
      ]
     },
     "execution_count": 18,
     "metadata": {},
     "output_type": "execute_result"
    }
   ],
   "source": [
    "plotdf"
   ]
  },
  {
   "cell_type": "markdown",
   "metadata": {},
   "source": [
    "# Plotting copy number results."
   ]
  },
  {
   "cell_type": "code",
   "execution_count": 19,
   "metadata": {},
   "outputs": [
    {
     "data": {
      "image/png": "[encoded data removed]",
      "text/plain": [
       "<Figure size 360x576 with 1 Axes>"
      ]
     },
     "metadata": {},
     "output_type": "display_data"
    }
   ],
   "source": [
    "fig, ax = plt.subplots( 1,1, figsize=( 5, 8 ), facecolor='white' )\n",
    "ax = sns.violinplot(x=\"level\", y=\"16s_copy_num\", hue=\"type\", data=plotdf, palette=\"Set2\", split=False, inner=\"quartile\")\n",
    "# plt.savefig( 'cos_end_violin_split.svg' )\n",
    "plt.show()"
   ]
  },
  {
   "cell_type": "markdown",
   "metadata": {},
   "source": [
    "# Getting PICRUst2 inferred gene content"
   ]
  },
  {
   "cell_type": "code",
   "execution_count": 20,
   "metadata": {},
   "outputs": [],
   "source": [
    "kodf = pd.read_csv( 'data_genomic/KO_predicted.tsv', sep='\\t' )"
   ]
  },
  {
   "cell_type": "markdown",
   "metadata": {},
   "source": [
    "### Compartmentalizing inferred genome data into generalists and specialists."
   ]
  },
  {
   "cell_type": "code",
   "execution_count": 21,
   "metadata": {},
   "outputs": [],
   "source": [
    "end_genes, cos_genes = [], []\n",
    "for tasv in end:\n",
    "    end_genes.append( len( np.array( kodf.columns[ np.where( kodf[ kodf[ 'sequence' ] == tasv ].values[0] )[0] ][1:] ) ) )\n",
    "\n",
    "for tasv in cos:\n",
    "    cos_genes.append( len( np.array( kodf.columns[ np.where( kodf[ kodf[ 'sequence' ] == tasv ].values[0] )[0] ][1:] ) ) )"
   ]
  },
  {
   "cell_type": "markdown",
   "metadata": {},
   "source": [
    "### Calculating the mean number of genes in generalists and specialists, respectively."
   ]
  },
  {
   "cell_type": "code",
   "execution_count": 22,
   "metadata": {},
   "outputs": [
    {
     "data": {
      "text/plain": [
       "1569.3416149068323"
      ]
     },
     "execution_count": 22,
     "metadata": {},
     "output_type": "execute_result"
    }
   ],
   "source": [
    "np.mean( end_genes )"
   ]
  },
  {
   "cell_type": "code",
   "execution_count": 23,
   "metadata": {},
   "outputs": [
    {
     "data": {
      "text/plain": [
       "1878.9"
      ]
     },
     "execution_count": 23,
     "metadata": {},
     "output_type": "execute_result"
    }
   ],
   "source": [
    "np.mean( cos_genes )"
   ]
  },
  {
   "cell_type": "markdown",
   "metadata": {},
   "source": [
    "Testing for statistical differences."
   ]
  },
  {
   "cell_type": "code",
   "execution_count": 24,
   "metadata": {},
   "outputs": [
    {
     "data": {
      "text/plain": [
       "Ttest_indResult(statistic=-3.2658113238791264, pvalue=0.001321608797310604)"
      ]
     },
     "execution_count": 24,
     "metadata": {},
     "output_type": "execute_result"
    }
   ],
   "source": [
    "from scipy import stats\n",
    "stats.ttest_ind( end_genes, cos_genes )"
   ]
  },
  {
   "cell_type": "markdown",
   "metadata": {},
   "source": [
    "## Preparing gene number data for plotting."
   ]
  },
  {
   "cell_type": "code",
   "execution_count": 25,
   "metadata": {},
   "outputs": [],
   "source": [
    "plotdf = pd.DataFrame()\n",
    "\n",
    "types, vals = [], []\n",
    "\n",
    "for e in cos_genes:\n",
    "    types.append( 'generalist' )\n",
    "    vals.append( e )\n",
    "\n",
    "for e in end_genes:\n",
    "    types.append( 'specialist' )\n",
    "    vals.append( e )\n",
    "\n",
    "plotdf[ 'type' ] = types\n",
    "plotdf[ 'num_genes' ] = vals"
   ]
  },
  {
   "cell_type": "markdown",
   "metadata": {},
   "source": [
    "## Plotting results."
   ]
  },
  {
   "cell_type": "code",
   "execution_count": 26,
   "metadata": {},
   "outputs": [
    {
     "data": {
      "image/png": "[encoded data removed]",
      "text/plain": [
       "<Figure size 216x576 with 1 Axes>"
      ]
     },
     "metadata": {
      "needs_background": "light"
     },
     "output_type": "display_data"
    }
   ],
   "source": [
    "import seaborn as sns\n",
    "fig, ax = plt.subplots( 1,1, figsize=( 3, 8 ) )\n",
    "ax = sns.violinplot(x=\"type\", y=\"num_genes\", data=plotdf, palette=\"Set2\", split=False, inner=\"quartile\")\n",
    "# plt.savefig( 'gen_spec_gene_num.svg' )\n",
    "plt.show()"
   ]
  }
 ],
 "metadata": {
  "kernelspec": {
   "display_name": "Python 3",
   "language": "python",
   "name": "python3"
  },
  "language_info": {
   "codemirror_mode": {
    "name": "ipython",
    "version": 3
   },
   "file_extension": ".py",
   "mimetype": "text/x-python",
   "name": "python",
   "nbconvert_exporter": "python",
   "pygments_lexer": "ipython3",
   "version": "3.8.3"
  }
 },
 "nbformat": 4,
 "nbformat_minor": 2
}
