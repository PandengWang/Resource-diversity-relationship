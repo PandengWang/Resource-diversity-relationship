{
 "cells": [
  {
   "cell_type": "markdown",
   "metadata": {},
   "source": [
    "# Setting up and reading data files"
   ]
  },
  {
   "cell_type": "code",
   "execution_count": 14,
   "metadata": {},
   "outputs": [],
   "source": [
    "import numpy as np\n",
    "import pandas as pd\n",
    "from uniqify import uniqify\n",
    "from unlistify import unlistify\n",
    "import pickle"
   ]
  },
  {
   "cell_type": "code",
   "execution_count": 15,
   "metadata": {},
   "outputs": [],
   "source": [
    "#-------------------------------------------------------------------------\n",
    "# Loading all relevant data files. \n",
    "# NOTE: please unzip the file: kegg_files.zip and make sure all the \n",
    "# following files can be read by the program in order for the analysis\n",
    "# to work.\n",
    "#-------------------------------------------------------------------------\n",
    "stoich_matrix = np.load('akshit_stoich_matrix.npy')\n",
    "names = [e[:-1] for e in open('akshit_names.txt', 'r').readlines()]\n",
    "rxns = ''.join(open('akshit_rxns.txt', 'r').readlines()).split()\n",
    "cpds = ''.join(open('akshit_mets.txt', 'r').readlines()).split()\n",
    "\n",
    "met_map = kegg_to_id = {cpds[e] : e for e in range(len(cpds))}\n",
    "inv_met_map = id_to_kegg = {value: key for key, value in met_map.items()}\n",
    "rxn_map = rxn_kegg_to_id = {rxns[e] : e for e in range(len(rxns))}\n",
    "inv_rxn_map = rxn_id_to_kegg = {value: key for key, value in rxn_map.items()}\n",
    "cpd_string_dict = {cpds[e] : names[e] for e in range(len(names))}\n",
    "\n",
    "#-------------------------------------------------------------------------\n",
    "# Parsing some KEGG reactions correctly.\n",
    "#-------------------------------------------------------------------------\n",
    "stoich_matrix[rxn_kegg_to_id['R11307']][kegg_to_id['C00760']] = -1\n",
    "stoich_matrix[rxn_kegg_to_id['R00803']][kegg_to_id['C00103']] = 0\n",
    "stoich_matrix[rxn_kegg_to_id['R00028']][kegg_to_id['C00031']] = 0\n",
    "stoich_matrix[rxn_kegg_to_id['R00028']][kegg_to_id['C00267']] = 1\n",
    "stoich_matrix[rxn_kegg_to_id['R00010']][kegg_to_id['C00031']] = 0\n",
    "stoich_matrix[rxn_kegg_to_id['R00010']][kegg_to_id['C00267']] = 1\n",
    "stoich_matrix[rxn_kegg_to_id['R00839']][kegg_to_id['C00031']] = 0\n",
    "\n",
    "#-------------------------------------------------------------------------\n",
    "# Initializing and setting the currency molecules.\n",
    "#-------------------------------------------------------------------------\n",
    "Currency = ''.join(open('ncurr.txt', 'r').readlines()).split()\n",
    "\n",
    "#-------------------------------------------------------------------------\n",
    "# Defining reactant, product and reactant number vectors for the scope \n",
    "# expansion algorithm.\n",
    "#-------------------------------------------------------------------------\n",
    "rxnMat = ((stoich_matrix.clip(max = 0.0)) != 0) * 1\n",
    "prodMat = (stoich_matrix.clip(min = 0.0) != 0) * 1\n",
    "sumRxnVec = np.sum(rxnMat, axis = 1)\n",
    "sumProdVec = np.sum(prodMat, axis = 1)"
   ]
  },
  {
   "cell_type": "markdown",
   "metadata": {},
   "source": [
    " Defining all 16 carbon sources used in the experiment."
   ]
  },
  {
   "cell_type": "code",
   "execution_count": 16,
   "metadata": {},
   "outputs": [
    {
     "data": {
      "text/plain": [
       "{'maltose': 'C00208',\n",
       " 'fumarate': 'C00122',\n",
       " 'galacturonate': 'C00333',\n",
       " 'sucrose': 'C00089',\n",
       " 'sorbitol': 'C00794',\n",
       " 'cellulose': 'C00760',\n",
       " 'cellobiose': 'C04534',\n",
       " 'fructose': 'C00095',\n",
       " 'citrate': 'C00158',\n",
       " 'mannose': 'C00159',\n",
       " 'xylose': 'C00181',\n",
       " 'mannitol': 'C00392',\n",
       " 'glycerol': 'C00116',\n",
       " 'starch': 'C00369',\n",
       " 'proline': 'C01157',\n",
       " 'glucose': 'C00221'}"
      ]
     },
     "execution_count": 16,
     "metadata": {},
     "output_type": "execute_result"
    }
   ],
   "source": [
    "martina_cpd_to_kegg = dict( pd.read_csv( 'compound_to_kegg.csv' ).values.tolist( ) )\n",
    "martina_cpd_to_kegg[ 'glucose' ] = 'C00221'\n",
    "martina_cpd_to_kegg[ 'cellobiose' ] = 'C04534'\n",
    "martina_cpd_to_kegg"
   ]
  },
  {
   "cell_type": "markdown",
   "metadata": {},
   "source": [
    "### Reading media "
   ]
  },
  {
   "cell_type": "code",
   "execution_count": 17,
   "metadata": {},
   "outputs": [],
   "source": [
    "martina_media_df = pd.read_excel( 'media_from_martina_modified_names.xlsx', index_col=0 ).fillna( '' )\n",
    "media_listoflist = list( martina_media_df.values.tolist( ) )\n",
    "for idx, tm in enumerate( media_listoflist ):\n",
    "    media_listoflist[ idx ] = list( filter( None, tm ) )\n",
    "kegg_media = [ [ martina_cpd_to_kegg[ e ] for e in tm ] for tm in media_listoflist ]"
   ]
  },
  {
   "cell_type": "code",
   "execution_count": 18,
   "metadata": {},
   "outputs": [],
   "source": [
    "CS = [id_to_kegg[kegg_to_id[e]] for e in uniqify( unlistify( kegg_media ) )]"
   ]
  },
  {
   "cell_type": "markdown",
   "metadata": {},
   "source": [
    "Checking that we have 75 defined media in total."
   ]
  },
  {
   "cell_type": "code",
   "execution_count": 19,
   "metadata": {},
   "outputs": [
    {
     "data": {
      "text/plain": [
       "75"
      ]
     },
     "execution_count": 19,
     "metadata": {},
     "output_type": "execute_result"
    }
   ],
   "source": [
    "len(kegg_media)"
   ]
  },
  {
   "cell_type": "markdown",
   "metadata": {},
   "source": [
    "# The scope expansion algorithm"
   ]
  },
  {
   "cell_type": "code",
   "execution_count": 20,
   "metadata": {},
   "outputs": [],
   "source": [
    "def giveScope(rxnMat, prodMat, seedVec, sumVec):\n",
    "    \"\"\"\n",
    "    Takes in the stoichiometric matrix in the form of a reaction \n",
    "    and product matrix, along with a sum vector mentioning the \n",
    "    number of reactants in each reaction in the matrix. Also takes\n",
    "    in a vector of initially seeded metabolites (in seedVec).\n",
    "\n",
    "    Expands, beginning from the seeded metabolites, a set of reactions\n",
    "    and metabolites that can be reached iteratively from the former.\n",
    "    \n",
    "\n",
    "    RETURNS:\n",
    "    Returns a set of 'scope-expanded' metabolites and reactions in the \n",
    "    stoichiometric matrix form.\n",
    "\n",
    "    currScopeMets is the set of metabolites, with their usual IDs.\n",
    "    rxnProc is the set of reactions with my personal IDs \n",
    "    \"\"\"\n",
    "    currScopeMets = np.copy(seedVec)\n",
    "    scopeSize = sum(currScopeMets)\n",
    "    prevScopeSize = 0.0\n",
    "\n",
    "    while scopeSize > prevScopeSize:\n",
    "        prevScopeSize = scopeSize\n",
    "\n",
    "        # This generates the rho vector.\n",
    "        rxnProc = ((np.dot(rxnMat, currScopeMets) - sumVec) == 0) * 1\n",
    "        # This generates the phi vector.\n",
    "        currScopeMets = (np.dot(np.transpose(prodMat), rxnProc) + currScopeMets > 0) * 1\n",
    "\n",
    "        # Recalculating scope size.\n",
    "        scopeSize = sum(currScopeMets)\n",
    "\n",
    "    return currScopeMets, rxnProc"
   ]
  },
  {
   "cell_type": "markdown",
   "metadata": {},
   "source": [
    "# Preparing all reaction maps from KEGG to use"
   ]
  },
  {
   "cell_type": "markdown",
   "metadata": {},
   "source": [
    "### Getting all amino acid reaction maps"
   ]
  },
  {
   "cell_type": "code",
   "execution_count": 21,
   "metadata": {},
   "outputs": [],
   "source": [
    "aa03 = ''.join(open('aa_maps/map00250.txt', 'r').readlines()).split()\n",
    "aa04 = ''.join(open('aa_maps/map00260.txt', 'r').readlines()).split()\n",
    "aa05 = ''.join(open('aa_maps/map00270.txt', 'r').readlines()).split()\n",
    "aa06 = ''.join(open('aa_maps/map00280.txt', 'r').readlines()).split()\n",
    "aa07 = ''.join(open('aa_maps/map00290.txt', 'r').readlines()).split()\n",
    "aa08 = ''.join(open('aa_maps/map00300.txt', 'r').readlines()).split()\n",
    "aa09 = ''.join(open('aa_maps/map00310.txt', 'r').readlines()).split()\n",
    "aa10 = ''.join(open('aa_maps/map00330.txt', 'r').readlines()).split()\n",
    "aa11 = ''.join(open('aa_maps/map00340.txt', 'r').readlines()).split()\n",
    "aa12 = ''.join(open('aa_maps/map00350.txt', 'r').readlines()).split()\n",
    "aa13 = ''.join(open('aa_maps/map00360.txt', 'r').readlines()).split()\n",
    "aa14 = ''.join(open('aa_maps/map00380.txt', 'r').readlines()).split()\n",
    "canaa = aa03 + aa04 + aa05 + aa06 + aa07 + aa08 + aa09 + aa10 + aa11 + aa12 + aa13 + aa14"
   ]
  },
  {
   "cell_type": "markdown",
   "metadata": {},
   "source": [
    "### Getting all carbohydrate and carbon metabolism maps"
   ]
  },
  {
   "cell_type": "code",
   "execution_count": 22,
   "metadata": {},
   "outputs": [],
   "source": [
    "can1 = ''.join(open('rn00330.txt', 'r').readlines()).split()\n",
    "can2 = ''.join(open('map01200.txt', 'r').readlines()).split()\n",
    "can3 = ''.join(open('map00051.txt', 'r').readlines()).split()\n",
    "can4 = ''.join(open('map00500.txt', 'r').readlines()).split()\n",
    "can5 = ''.join(open('map00040.txt', 'r').readlines()).split()\n",
    "can6 = ''.join(open('map00561.txt', 'r').readlines()).split()\n",
    "can = can1 + can2 + can3 + can4 + can5 + can6 + canaa\n",
    "can = list((set(can)) & set(rxns))"
   ]
  },
  {
   "cell_type": "markdown",
   "metadata": {},
   "source": [
    "### Removing a manually curated list of reactions which are not specific to soil bacteria."
   ]
  },
  {
   "cell_type": "code",
   "execution_count": 23,
   "metadata": {},
   "outputs": [
    {
     "data": {
      "text/plain": [
       "1209"
      ]
     },
     "execution_count": 23,
     "metadata": {},
     "output_type": "execute_result"
    }
   ],
   "source": [
    "fwrxns = [rxn_kegg_to_id[e] for e in can if e not in [ 'R03292', 'R03293', 'R11819', 'R04447', 'R04446', 'R03295', 'R03290', 'R03291', 'R02727', 'R00801', 'R05140', 'R11790', 'R04194', 'R00806', 'R02120', 'R01823', 'R00178', 'R11791', 'R11309', 'R00948', 'R00872', 'R09945', 'R04111', 'R01555',  'R01557', 'R01295', 'R11540', 'R00341', 'R00345', 'R00354', 'R00479', 'R00878', 'R09994', 'R02110']]\n",
    "mp = int(len(stoich_matrix)/2)\n",
    "rvrxns = [ mp + 295, mp + 286, mp + rxn_kegg_to_id['R01251'], mp + rxn_kegg_to_id['R00352'], mp + rxn_kegg_to_id['R01082'], mp + rxn_kegg_to_id['R01518'], mp + rxn_kegg_to_id['R09477'], mp + rxn_kegg_to_id['R07676'], mp + rxn_kegg_to_id['R01082'], mp + rxn_kegg_to_id['R00658'] ]\n",
    "avrxns = fwrxns + rvrxns + [286, 189]\n",
    "\n",
    "avoid_rxns = []\n",
    "for trxn in avrxns:\n",
    "    crs = set([kegg_to_id[e] for e in Currency])\n",
    "    if (set(np.nonzero(rxnMat[trxn])[0]) & crs) == set(np.nonzero(rxnMat[trxn])[0]):\n",
    "        avoid_rxns.append(trxn)\n",
    "\n",
    "avoid_rxns = [rxn_id_to_kegg[e] for e in avoid_rxns]\n",
    "\n",
    "for tind, trow in enumerate(stoich_matrix):\n",
    "    if trow[kegg_to_id['C00718']] == 1 and tind < mp:\n",
    "        avoid_rxns.append(rxn_id_to_kegg[tind])\n",
    "\n",
    "fwrxns = [rxn_kegg_to_id[e] for e in can if e not in avoid_rxns + [ 'R03292', 'R03293', 'R11819', 'R04447', 'R04446', 'R03295', 'R03290', 'R03291', 'R02727', 'R00801', 'R05140', 'R11790', 'R04194', 'R00806', 'R02120', 'R01823', 'R00178', 'R11791', 'R11309', 'R00948', 'R00872', 'R09945', 'R04111', 'R01555',  'R01557', 'R01295', 'R11540', 'R00341', 'R00345', 'R00354', 'R00479', 'R00878', 'R09994', 'R02110']]\n",
    "mp = int(len(stoich_matrix)/2)\n",
    "rvrxns = [ mp + 295, mp + 286, mp + rxn_kegg_to_id['R01251'], mp + rxn_kegg_to_id['R00352'], mp + rxn_kegg_to_id['R01082'], mp + rxn_kegg_to_id['R01518'], mp + rxn_kegg_to_id['R09477'], mp + rxn_kegg_to_id['R07676'], mp + rxn_kegg_to_id['R01082'], mp + rxn_kegg_to_id['R00658'] ]\n",
    "avrxns = fwrxns + rvrxns + [286, 189]\n",
    "len( avrxns )"
   ]
  },
  {
   "cell_type": "markdown",
   "metadata": {},
   "source": [
    "# Performing scope expansion"
   ]
  },
  {
   "cell_type": "code",
   "execution_count": 24,
   "metadata": {
    "scrolled": true
   },
   "outputs": [
    {
     "name": "stderr",
     "output_type": "stream",
     "text": [
      "100%|██████████| 75/75 [00:36<00:00,  2.93it/s]\n"
     ]
    }
   ],
   "source": [
    "from tqdm import tqdm \n",
    "calc_scopes = {}\n",
    "rxn_scopes = {}\n",
    "for media_id in tqdm( range( 1, len( kegg_media ) + 1 ) ):\n",
    "    seedVec = np.zeros(len(rxnMat.T))\n",
    "    media = kegg_media[ media_id - 1 ]\n",
    "    seedVec[[kegg_to_id[e] for e in Currency + media]] = 1\n",
    "    scopeMets, rxnProc = giveScope( rxnMat[ avrxns ], prodMat[ avrxns ], seedVec, sumRxnVec[ avrxns ])\n",
    "    transrxn = np.zeros(len(stoich_matrix))\n",
    "    transrxn[avrxns] = np.copy(rxnProc)\n",
    "    rxnProc = np.copy(transrxn)\n",
    "    calc_scopes[ media_id ] = scopeMets\n",
    "    rxn_scopes[ media_id ] = rxnProc[:]"
   ]
  },
  {
   "cell_type": "markdown",
   "metadata": {},
   "source": [
    "### Calculating the scope of currency molecules. "
   ]
  },
  {
   "cell_type": "code",
   "execution_count": 25,
   "metadata": {
    "scrolled": true
   },
   "outputs": [
    {
     "name": "stdout",
     "output_type": "stream",
     "text": [
      "3\n"
     ]
    }
   ],
   "source": [
    "seedVec = np.zeros(len(rxnMat.T))\n",
    "seedVec[[kegg_to_id[e] for e in Currency]] = 1\n",
    "currScope, currRxn = giveScope( rxnMat[ avrxns ], prodMat[ avrxns ], seedVec, sumRxnVec[ avrxns ])\n",
    "\n",
    "transrxn = np.zeros(len(stoich_matrix))\n",
    "transrxn[avrxns] = np.copy(currRxn)\n",
    "currRxn = np.copy(transrxn)\n",
    "rxn_curr = set(np.nonzero( currRxn )[0])\n",
    "\n",
    "currMets = set(np.nonzero( currScope )[0])\n",
    "\n",
    "# 3 reactions can be performed using only the currency metabolites.\n",
    "print( len( rxn_curr ) )"
   ]
  },
  {
   "cell_type": "markdown",
   "metadata": {},
   "source": [
    "### Removing the scope of all currency molecules to get final scopes for each medium."
   ]
  },
  {
   "cell_type": "code",
   "execution_count": 26,
   "metadata": {},
   "outputs": [
    {
     "name": "stderr",
     "output_type": "stream",
     "text": [
      "100%|██████████| 75/75 [00:02<00:00, 35.12it/s]\n"
     ]
    }
   ],
   "source": [
    "filt_scope = {}\n",
    "filt_scope_size = {}\n",
    "for ind in tqdm( range( 1, len( kegg_media ) + 1 ) ):\n",
    "    rxnProc = np.zeros_like( currRxn )\n",
    "    rxn_tm = set(np.nonzero( rxn_scopes[ind] )[0])\n",
    "    rxnProc[ list( rxn_tm - rxn_curr ) ] = 1\n",
    "    rxnProc[ 189 ] = 1\n",
    "    seedVec = np.zeros(len(rxnMat.T))\n",
    "    media = kegg_media[ ind - 1 ]\n",
    "    seedVec[[kegg_to_id[e] for e in Currency + media]] = 1\n",
    "    currScopeMets = np.copy( seedVec )\n",
    "    currScopeMets = (np.dot(np.transpose(prodMat[ avrxns ]), rxnProc[avrxns]) + currScopeMets > 0) * 1\n",
    "    currScopeMets[ [ kegg_to_id[e] for e in Currency ] ] = 0\n",
    "    filt_scope[ ind ] = currScopeMets\n",
    "    filt_scope_size[ ind ] = np.count_nonzero( currScopeMets )"
   ]
  },
  {
   "cell_type": "markdown",
   "metadata": {},
   "source": [
    "# Results: number of predicted metabolites for each single resource media"
   ]
  },
  {
   "cell_type": "code",
   "execution_count": 27,
   "metadata": {},
   "outputs": [
    {
     "data": {
      "text/plain": [
       "{'beta-D-Glucose': 45,\n",
       " 'D-Fructose; Levulose; Fruit sugar; D-arabino-Hexulose': 42,\n",
       " 'D-Xylose; Wood sugar': 45,\n",
       " 'D-Mannose; Mannose; Seminose; Carubinose': 45,\n",
       " \"6-Phospho-beta-D-glucosyl-(1,4)-D-glucose; Cellobiose 6'-phosphate; Cellobiose 6-phosphate\": 50,\n",
       " 'Maltose; Malt sugar; alpha-D-Glucopyranosyl-(1->4)-D-glucopyranose': 41,\n",
       " 'Sucrose; Cane sugar; Saccharose; 1-alpha-D-Glucopyranosyl-2-beta-D-fructofuranoside': 43,\n",
       " 'Citrate; Citric acid; 2-Hydroxy-1,2,3-propanetricarboxylic acid; 2-Hydroxytricarballylic acid': 29,\n",
       " 'Fumarate; Fumaric acid; trans-Butenedioic acid': 29,\n",
       " 'D-Galacturonate; D-Galacturonic acid': 42,\n",
       " 'Mannitol; D-Mannitol': 43,\n",
       " 'D-Sorbitol; D-Glucitol; L-Gulitol; Sorbitol': 48,\n",
       " 'Glycerol; Glycerin; 1,2,3-Trihydroxypropane; 1,2,3-Propanetriol': 36,\n",
       " 'Hydroxyproline; L-Hydroxyproline; trans-4-Hydroxy-L-proline': 37,\n",
       " 'Cellulose; (1,4-beta-D-Glucosyl)n; (1,4-beta-D-Glucosyl)n+1; (1,4-beta-D-Glucosyl)n-1; 1,4-beta-D-Glucan; Microcrystalline cellulose': 54,\n",
       " 'Starch; Glycogen': 47}"
      ]
     },
     "execution_count": 27,
     "metadata": {},
     "output_type": "execute_result"
    }
   ],
   "source": [
    "{ cpd_string_dict[kegg_media[i][0]] :filt_scope_size[i+1] for i in range(len(kegg_media)) if len(kegg_media[i]) == 1}"
   ]
  },
  {
   "cell_type": "markdown",
   "metadata": {},
   "source": [
    "## Checking the scope for a particular medium (example for medium no. 46)"
   ]
  },
  {
   "cell_type": "code",
   "execution_count": 28,
   "metadata": {
    "scrolled": false
   },
   "outputs": [
    {
     "data": {
      "text/plain": [
       "{'C00020': \"AMP; Adenosine 5'-monophosphate; Adenylic acid; Adenylate; 5'-AMP; 5'-Adenylic acid; 5'-Adenosine monophosphate; Adenosine 5'-phosphate\",\n",
       " 'C00022': 'Pyruvate; Pyruvic acid; 2-Oxopropanoate; 2-Oxopropanoic acid; Pyroracemic acid',\n",
       " 'C00026': '2-Oxoglutarate; Oxoglutaric acid; 2-Ketoglutaric acid; alpha-Ketoglutaric acid',\n",
       " 'C00033': 'Acetate; Acetic acid; Ethanoic acid',\n",
       " 'C00036': 'Oxaloacetate; Oxalacetic acid; Oxaloacetic acid; 2-Oxobutanedioic acid; 2-Oxosuccinic acid; keto-Oxaloacetate',\n",
       " 'C00042': 'Succinate; Succinic acid; Butanedionic acid; Ethylenesuccinic acid',\n",
       " 'C00048': 'Glyoxylate; Glyoxalate; Glyoxylic acid',\n",
       " 'C00074': 'Phosphoenolpyruvate; Phosphoenolpyruvic acid; PEP',\n",
       " 'C00085': 'D-Fructose 6-phosphate; D-Fructose 6-phosphoric acid; Neuberg ester',\n",
       " 'C00091': 'Succinyl-CoA; Succinyl coenzyme A',\n",
       " 'C00095': 'D-Fructose; Levulose; Fruit sugar; D-arabino-Hexulose',\n",
       " 'C00111': 'Glycerone phosphate; Dihydroxyacetone phosphate; 3-Hydroxy-2-oxopropyl phosphate',\n",
       " 'C00118': 'D-Glyceraldehyde 3-phosphate; (2R)-2-Hydroxy-3-(phosphonooxy)-propanal; Glyceraldehyde 3-phosphate',\n",
       " 'C00122': 'Fumarate; Fumaric acid; trans-Butenedioic acid',\n",
       " 'C00149': '(S)-Malate; L-Malate; L-Apple acid; L-Malic acid; L-2-Hydroxybutanedioic acid; Malate; Malic acid',\n",
       " 'C00158': 'Citrate; Citric acid; 2-Hydroxy-1,2,3-propanetricarboxylic acid; 2-Hydroxytricarballylic acid',\n",
       " 'C00159': 'D-Mannose; Mannose; Seminose; Carubinose',\n",
       " 'C00168': 'Hydroxypyruvate; Hydroxypyruvic acid; 3-Hydroxypyruvate; 3-Hydroxypyruvic acid',\n",
       " 'C00197': '3-Phospho-D-glycerate; D-Glycerate 3-phosphate; 3-Phospho-(R)-glycerate; 3-Phosphoglycerate',\n",
       " 'C00231': 'D-Xylulose 5-phosphate',\n",
       " 'C00232': 'Succinate semialdehyde; Succinic semialdehyde; 4-Oxobutanoate',\n",
       " 'C00236': '3-Phospho-D-glyceroyl phosphate; 1,3-Bisphospho-D-glycerate; (R)-2-Hydroxy-3-(phosphonooxy)-1-monoanhydride with phosphoric propanoic acid; D-Glycerate 1,3-diphosphate',\n",
       " 'C00258': 'D-Glycerate; Glycerate; (R)-Glycerate; Glyceric acid',\n",
       " 'C00275': 'D-Mannose 6-phosphate',\n",
       " 'C00279': 'D-Erythrose 4-phosphate',\n",
       " 'C00311': 'Isocitrate; Isocitric acid; 1-Hydroxytricarballylic acid; 1-Hydroxypropane-1,2,3-tricarboxylic acid',\n",
       " 'C00354': 'D-Fructose 1,6-bisphosphate',\n",
       " 'C00566': '(3S)-Citryl-CoA',\n",
       " 'C00577': 'D-Glyceraldehyde',\n",
       " 'C00631': '2-Phospho-D-glycerate; D-Glycerate 2-phosphate; 2-Phospho-(R)-glycerate',\n",
       " 'C00636': 'D-Mannose 1-phosphate; alpha-D-Mannose 1-phosphate',\n",
       " 'C00665': 'beta-D-Fructose 2,6-bisphosphate; D-Fructose 2,6-bisphosphate',\n",
       " 'C01094': 'D-Fructose 1-phosphate',\n",
       " 'C01251': '(R)-2-Hydroxybutane-1,2,4-tricarboxylate; Homocitrate; Homocitric acid; 3-Hydroxy-3-carboxyadipic acid; (R)-2-Hydroxy-1,2,4-butanetricarboxylic acid',\n",
       " 'C02226': '2-Methylmaleate; Citraconate; Citraconic acid; Methylmaleic acid',\n",
       " 'C02232': '3-Oxoadipyl-CoA; beta-Ketoadipyl-CoA',\n",
       " 'C02612': '(R)-2-Methylmalate; (R)-2-Methylmalic acid; (R)-Citramalate; (R)-Citramalic acid; (R)-alpha-Hydroxypyrotartaric acid; D-Citramalate; D-Citramalic acid; D-alpha-Hydroxypyrotartaric acid; (2R)-2-Hydroxy-2-methylbutanedioate',\n",
       " 'C03232': '3-Phosphonooxypyruvate; 3-Phosphonooxypyruvic acid; 3-Phosphohydroxypyruvate; 3-Phosphohydroxypyruvic acid; 3-Phosphooxypyruvate',\n",
       " 'C03267': 'beta-D-Fructose 2-phosphate; beta-D-Fructofuranose 2-phosphate',\n",
       " 'C04002': '(Z)-But-1-ene-1,2,4-tricarboxylate; Homo-cis-aconitate; cis-Homoaconitate; (Z)-1,2,4-But-1-enetricarboxylic acid',\n",
       " 'C04348': 'L-Malyl-CoA; (S)-Malyl-CoA; Malyl-CoA; (3S)-3-Carboxy-3-hydroxypropanoyl-CoA; (3S)-3-Carboxy-3-hydroxypropionyl-CoA',\n",
       " 'C05345': 'beta-D-Fructose 6-phosphate',\n",
       " 'C05378': 'beta-D-Fructose 1,6-bisphosphate',\n",
       " 'C06032': 'D-erythro-3-Methylmalate; (2R,3S)-3-Methylmalate',\n",
       " 'C06201': '2,4-Dihydroxyhept-2-enedioate; 2,4-Dihydroxyhept-2-1,7-dioate; 2,4-Dihydroxyhept-2-enedioic acid'}"
      ]
     },
     "execution_count": 28,
     "metadata": {},
     "output_type": "execute_result"
    }
   ],
   "source": [
    "{id_to_kegg[e]: cpd_string_dict[id_to_kegg[e]] for e in np.nonzero( filt_scope[ 46 ] )[0] if id_to_kegg[e] not in Currency }"
   ]
  },
  {
   "cell_type": "markdown",
   "metadata": {},
   "source": [
    "## Plotting the predicted number of metabolites with the number of carbon sources"
   ]
  },
  {
   "cell_type": "code",
   "execution_count": 29,
   "metadata": {
    "scrolled": true
   },
   "outputs": [],
   "source": [
    "num_cs_media_dict = dict( zip( list( range( 1, len( kegg_media ) + 1 ) ), list( map( len, kegg_media ) ) ) )"
   ]
  },
  {
   "cell_type": "code",
   "execution_count": 30,
   "metadata": {},
   "outputs": [
    {
     "data": {
      "text/plain": [
       "Text(0, 0.5, 'Number of predicted metabolites')"
      ]
     },
     "execution_count": 30,
     "metadata": {},
     "output_type": "execute_result"
    },
    {
     "data": {
      "image/png": "[encoded data removed]",
      "text/plain": [
       "<Figure size 720x504 with 1 Axes>"
      ]
     },
     "metadata": {
      "needs_background": "light"
     },
     "output_type": "display_data"
    }
   ],
   "source": [
    "import matplotlib.pyplot as plt\n",
    "%matplotlib inline\n",
    "fig, ax = plt.subplots(figsize=(10,7))\n",
    "plt.scatter( list( map( len, kegg_media ) ), list( filt_scope_size.values() ) )\n",
    "plt.xlabel( 'Number of carbon sources' )\n",
    "plt.ylabel( 'Number of predicted metabolites' )"
   ]
  },
  {
   "cell_type": "markdown",
   "metadata": {},
   "source": [
    "# Saving metabolite matrix"
   ]
  },
  {
   "cell_type": "markdown",
   "metadata": {},
   "source": [
    "### Calculating which metabolites were produced across all media (we will only save those)."
   ]
  },
  {
   "cell_type": "markdown",
   "metadata": {},
   "source": [
    "There are only ~100 out of 1000s of metabolites, and we are only interested in saving those that were at least produced once."
   ]
  },
  {
   "cell_type": "code",
   "execution_count": 31,
   "metadata": {},
   "outputs": [],
   "source": [
    "cpds_scope = np.sort(uniqify(unlistify([ [e for e in np.nonzero( filt_scope[ sn ] )[0]] for sn in range(1, len(kegg_media) + 1) ])))\n",
    "\n",
    "smap = {cpds_scope[e] : e+1 for e in range(len(cpds_scope))}\n",
    "smap_inv = {value: key for key, value in smap.items()}"
   ]
  },
  {
   "cell_type": "markdown",
   "metadata": {},
   "source": [
    "There are 108 metabolites, in fact."
   ]
  },
  {
   "cell_type": "code",
   "execution_count": 32,
   "metadata": {},
   "outputs": [
    {
     "data": {
      "text/plain": [
       "108"
      ]
     },
     "execution_count": 32,
     "metadata": {},
     "output_type": "execute_result"
    }
   ],
   "source": [
    "len(smap)"
   ]
  },
  {
   "cell_type": "markdown",
   "metadata": {},
   "source": [
    "### Merging custom KEGG metabolites"
   ]
  },
  {
   "cell_type": "markdown",
   "metadata": {},
   "source": [
    "Some KEGG metabolites, such as alpha and beta D glucose, are treated as separate metabolites by KEGG, but we want to merge them into one metabolite, so as not to double count them. The file merge_dict contains a manually curated mapping of which metabolites need to be merged into which others."
   ]
  },
  {
   "cell_type": "code",
   "execution_count": 33,
   "metadata": {},
   "outputs": [
    {
     "data": {
      "text/plain": [
       "{35: 4, 43: 4, 64: 13, 77: 56, 83: 19, 96: 10, 97: 51}"
      ]
     },
     "execution_count": 33,
     "metadata": {},
     "output_type": "execute_result"
    }
   ],
   "source": [
    "mdf = pd.read_csv( 'merge_dict.txt', sep='\\t', header=None )\n",
    "mdict = dict( mdf.values )\n",
    "mdict"
   ]
  },
  {
   "cell_type": "markdown",
   "metadata": {},
   "source": [
    "First, we merge the metabolites and make sure if one of them is present in the scope, then it is counted. We do this by setting the first metabolite in the mapping to be present (equal to 1 in the scope)."
   ]
  },
  {
   "cell_type": "code",
   "execution_count": 34,
   "metadata": {},
   "outputs": [],
   "source": [
    "for mkey in mdict:\n",
    "    for media_id in range( len( filt_scope ) ):\n",
    "        if filt_scope[ media_id + 1 ][ smap_inv[ mkey ] ] == 1 and filt_scope[ media_id + 1 ][ smap_inv[ mdict[ mkey ] ] ] == 0:\n",
    "            filt_scope[ media_id + 1 ][ smap_inv[ mdict[ mkey ] ] ] = 1"
   ]
  },
  {
   "cell_type": "markdown",
   "metadata": {},
   "source": [
    "### Remove merged metabolites from the matrix and dicts"
   ]
  },
  {
   "cell_type": "markdown",
   "metadata": {},
   "source": [
    "Here, we are removing the second metabolite in the mapping from all scopes. This is to prevent double counting."
   ]
  },
  {
   "cell_type": "code",
   "execution_count": 38,
   "metadata": {},
   "outputs": [],
   "source": [
    "pres_mets = { i+1 :np.nonzero(filt_scope[i+1])[0] for i in range(len(kegg_media))}\n",
    "\n",
    "to_filt_out = [ smap_inv[ e ] for e in mdict ] \n",
    "\n",
    "filt_pres_mets = {}\n",
    "for media_id in range( 1, len( filt_scope ) + 1 ):\n",
    "    filt_pres_mets[ media_id ] = np.asarray( [ e for e in pres_mets[ media_id ] if e not in to_filt_out ] )"
   ]
  },
  {
   "cell_type": "markdown",
   "metadata": {},
   "source": [
    "### Saving the final matrix after filtering"
   ]
  },
  {
   "cell_type": "markdown",
   "metadata": {},
   "source": [
    "The shape of the matrix is the number of media (75) by the number of metabolites (108). The first row and column are deliberately left blank."
   ]
  },
  {
   "cell_type": "code",
   "execution_count": 39,
   "metadata": {},
   "outputs": [],
   "source": [
    "metm = np.zeros((len(kegg_media)+1, len(smap)+1))\n",
    "for i in range(len(kegg_media)):\n",
    "    to_pos = list(filt_pres_mets[i+1])\n",
    "    for t in to_pos:\n",
    "        metm[i+1][smap[t]] = 1\n",
    "    if not (np.array([smap_inv[e] for e in np.where(metm[i+1])[0]]) == filt_pres_mets[i+1]).all():\n",
    "        print('ERROR')\n",
    "    \n",
    "np.savetxt(\"metabolic_matrix.csv\", metm, delimiter=\",\")"
   ]
  },
  {
   "cell_type": "markdown",
   "metadata": {},
   "source": [
    "### Creating a mapping between metabolite number and name for human readability"
   ]
  },
  {
   "cell_type": "code",
   "execution_count": 40,
   "metadata": {},
   "outputs": [],
   "source": [
    "scope_map_dict = {e+1:cpd_string_dict[id_to_kegg[smap_inv[e+1]]] for e in range(len(smap_inv))}"
   ]
  },
  {
   "cell_type": "code",
   "execution_count": 41,
   "metadata": {},
   "outputs": [
    {
     "ename": "IndentationError",
     "evalue": "unexpected indent (<ipython-input-41-746c6aa18bcb>, line 4)",
     "output_type": "error",
     "traceback": [
      "\u001b[0;36m  File \u001b[0;32m\"<ipython-input-41-746c6aa18bcb>\"\u001b[0;36m, line \u001b[0;32m4\u001b[0m\n\u001b[0;31m    w = csv.DictWriter(f, scope_map_dict.keys())\u001b[0m\n\u001b[0m    ^\u001b[0m\n\u001b[0;31mIndentationError\u001b[0m\u001b[0;31m:\u001b[0m unexpected indent\n"
     ]
    }
   ],
   "source": [
    "import csv\n",
    "\n",
    "with open('scope_map_table.csv', 'w') as f:\n",
    "    w = csv.DictWriter(f, scope_map_dict.keys())\n",
    "    w.writeheader()\n",
    "    w.writerow(scope_map_dict)"
   ]
  },
  {
   "cell_type": "code",
   "execution_count": null,
   "metadata": {},
   "outputs": [],
   "source": []
  }
 ],
 "metadata": {
  "kernelspec": {
   "display_name": "Python 3",
   "language": "python",
   "name": "python3"
  },
  "language_info": {
   "codemirror_mode": {
    "name": "ipython",
    "version": 3
   },
   "file_extension": ".py",
   "mimetype": "text/x-python",
   "name": "python",
   "nbconvert_exporter": "python",
   "pygments_lexer": "ipython3",
   "version": "3.7.3"
  }
 },
 "nbformat": 4,
 "nbformat_minor": 2
}
